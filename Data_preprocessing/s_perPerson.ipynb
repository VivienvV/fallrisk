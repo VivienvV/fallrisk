{
 "cells": [
  {
   "cell_type": "code",
   "execution_count": 1,
   "metadata": {},
   "outputs": [],
   "source": [
    "import pandas as pd\n",
    "import numpy as np"
   ]
  },
  {
   "cell_type": "code",
   "execution_count": 36,
   "metadata": {},
   "outputs": [],
   "source": [
    "df_data = pd.read_csv(\"../Data/preprocessed_conditiondata_vars.csv\")\n",
    "# display(df_data)"
   ]
  },
  {
   "cell_type": "code",
   "execution_count": 35,
   "metadata": {},
   "outputs": [],
   "source": [
    "# list(df_data)"
   ]
  },
  {
   "cell_type": "code",
   "execution_count": 33,
   "metadata": {},
   "outputs": [],
   "source": [
    "aggregation_functions = {\n",
    " 'Conditie': 'first',\n",
    " 'SubjectID': 'first',\n",
    " 'Height': 'mean',\n",
    " 'Weight': 'mean',\n",
    " 'Age': 'mean',\n",
    " 'BMI': 'mean',\n",
    " 'std_SegmentData': 'mean',\n",
    " 'mad_SegmentData': 'mean',\n",
    " 'AverageStepLength': 'mean'}\n",
    "df_new = df_data.groupby(df_data['TestID']).aggregate(aggregation_functions)"
   ]
  },
  {
   "cell_type": "code",
   "execution_count": 37,
   "metadata": {},
   "outputs": [],
   "source": [
    "# display(df_new)\n",
    "df_data.to_csv(path_or_buf=\"../Data/preprocessed_alcoholdata_mad_std.csv\")"
   ]
  },
  {
   "cell_type": "code",
   "execution_count": null,
   "metadata": {},
   "outputs": [],
   "source": []
  }
 ],
 "metadata": {
  "kernelspec": {
   "display_name": "Python 3",
   "language": "python",
   "name": "python3"
  },
  "language_info": {
   "codemirror_mode": {
    "name": "ipython",
    "version": 3
   },
   "file_extension": ".py",
   "mimetype": "text/x-python",
   "name": "python",
   "nbconvert_exporter": "python",
   "pygments_lexer": "ipython3",
   "version": "3.7.0"
  }
 },
 "nbformat": 4,
 "nbformat_minor": 2
}
