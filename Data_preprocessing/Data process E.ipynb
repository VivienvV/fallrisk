{
 "cells": [
  {
   "cell_type": "code",
   "execution_count": 32,
   "metadata": {},
   "outputs": [],
   "source": [
    "from scipy.io import loadmat"
   ]
  },
  {
   "cell_type": "code",
   "execution_count": 33,
   "metadata": {},
   "outputs": [],
   "source": [
    "matdata = loadmat(\"../Data/SpineMidData_21032018.mat\")"
   ]
  },
  {
   "cell_type": "code",
   "execution_count": 34,
   "metadata": {},
   "outputs": [
    {
     "name": "stdout",
     "output_type": "stream",
     "text": [
      "{'__header__': b'MATLAB 5.0 MAT-file, Platform: MACI64, Created on: Wed Mar 21 14:50:01 2018', '__version__': '1.0', '__globals__': [], 'SpineMidData': array([[array(['TestID'], dtype='<U6'), array(['Conditie'], dtype='<U8'),\n",
      "        array(['SubjectID'], dtype='<U9'), ...,\n",
      "        array(['Balance_MeanVelocity'], dtype='<U20'),\n",
      "        array(['GaitVelocity'], dtype='<U12'),\n",
      "        array(['MovementVelocity'], dtype='<U16')],\n",
      "       [array(['001A01'], dtype='<U6'),\n",
      "        MatlabOpaque([(b'', b'MCOS', b'categorical', array([[3707764736],\n",
      "       [         2],\n",
      "       [         1],\n",
      "       [         1],\n",
      "       [         1],\n",
      "       [         1]], dtype=uint32))],\n",
      "             dtype=[('s0', 'O'), ('s1', 'O'), ('s2', 'O'), ('arr', 'O')]),\n",
      "        array([[1]], dtype=uint8), ..., array([[4.29941109]]),\n",
      "        array([[1.0740982]]), array([[1.08116573]])],\n",
      "       [array(['001A01'], dtype='<U6'),\n",
      "        MatlabOpaque([(b'', b'MCOS', b'categorical', array([[3707764736],\n",
      "       [         2],\n",
      "       [         1],\n",
      "       [         1],\n",
      "       [         2],\n",
      "       [         1]], dtype=uint32))],\n",
      "             dtype=[('s0', 'O'), ('s1', 'O'), ('s2', 'O'), ('arr', 'O')]),\n",
      "        array([[1]], dtype=uint8), ..., array([[4.29941109]]),\n",
      "        array([[1.08220483]]), array([[1.08554896]])],\n",
      "       ...,\n",
      "       [array(['169B03'], dtype='<U6'),\n",
      "        MatlabOpaque([(b'', b'MCOS', b'categorical', array([[3707764736],\n",
      "       [         2],\n",
      "       [         1],\n",
      "       [         1],\n",
      "       [      1660],\n",
      "       [         1]], dtype=uint32))],\n",
      "             dtype=[('s0', 'O'), ('s1', 'O'), ('s2', 'O'), ('arr', 'O')]),\n",
      "        array([[169]], dtype=uint8), ..., array([[6.25442517]]),\n",
      "        array([[1.16325839]]), array([[1.16325855]])],\n",
      "       [array(['169B03'], dtype='<U6'),\n",
      "        MatlabOpaque([(b'', b'MCOS', b'categorical', array([[3707764736],\n",
      "       [         2],\n",
      "       [         1],\n",
      "       [         1],\n",
      "       [      1661],\n",
      "       [         1]], dtype=uint32))],\n",
      "             dtype=[('s0', 'O'), ('s1', 'O'), ('s2', 'O'), ('arr', 'O')]),\n",
      "        array([[169]], dtype=uint8), ..., array([[6.25442517]]),\n",
      "        array([[1.24402646]]), array([[1.24515657]])],\n",
      "       [array(['169B03'], dtype='<U6'),\n",
      "        MatlabOpaque([(b'', b'MCOS', b'categorical', array([[3707764736],\n",
      "       [         2],\n",
      "       [         1],\n",
      "       [         1],\n",
      "       [      1662],\n",
      "       [         1]], dtype=uint32))],\n",
      "             dtype=[('s0', 'O'), ('s1', 'O'), ('s2', 'O'), ('arr', 'O')]),\n",
      "        array([[169]], dtype=uint8), ..., array([[6.25442517]]),\n",
      "        array([[1.12446449]]), array([[1.12481526]])]], dtype=object), '__function_workspace__': array([[ 0,  1, 73, ...,  0,  0,  0]], dtype=uint8)}\n"
     ]
    }
   ],
   "source": [
    "print(matdata)"
   ]
  },
  {
   "cell_type": "code",
   "execution_count": 30,
   "metadata": {},
   "outputs": [
    {
     "name": "stdout",
     "output_type": "stream",
     "text": [
      "                SpineMidData\n",
      "0                   [TestID]\n",
      "1                 [Conditie]\n",
      "2                [SubjectID]\n",
      "3                  [TrialNr]\n",
      "4         [NumberOfSegments]\n",
      "5                [SegmentNr]\n",
      "6         [WalkingDirection]\n",
      "7              [SegmentData]\n",
      "8                  [Alcohol]\n",
      "9                   [Height]\n",
      "10                  [Weight]\n",
      "11                     [Age]\n",
      "12                     [BMI]\n",
      "13         [Balance_MLrange]\n",
      "14         [Balance_MLstdev]\n",
      "15  [Balance_MLmeanVelocity]\n",
      "16         [Balance_APrange]\n",
      "17         [Balance_APstdev]\n",
      "18  [Balance_APmeanVelocity]\n",
      "19    [Balance_MeanVelocity]\n",
      "20            [GaitVelocity]\n",
      "21        [MovementVelocity]\n"
     ]
    }
   ],
   "source": [
    "import scipy.io\n",
    "import pandas as pd\n",
    "\n",
    "mat = scipy.io.loadmat(\"../Data/SpineMidData_21032018.mat\")\n",
    "mat = {k:v for k, v in mat.items() if k[0] != '_'}\n",
    "data = pd.DataFrame({k: pd.Series(v[0]) for k, v in mat.items()})\n",
    "data.to_csv(\"example.csv\")\n",
    "\n",
    "print(data)\n"
   ]
  },
  {
   "cell_type": "code",
   "execution_count": 36,
   "metadata": {},
   "outputs": [
    {
     "data": {
      "text/plain": [
       "array([[array(['TestID'], dtype='<U6'), array(['Conditie'], dtype='<U8'),\n",
       "        array(['SubjectID'], dtype='<U9'),\n",
       "        array(['TrialNr'], dtype='<U7'),\n",
       "        array(['NumberOfSegments'], dtype='<U16'),\n",
       "        array(['SegmentNr'], dtype='<U9'),\n",
       "        array(['WalkingDirection'], dtype='<U16'),\n",
       "        array(['SegmentData'], dtype='<U11'),\n",
       "        array(['Alcohol'], dtype='<U7'), array(['Height'], dtype='<U6'),\n",
       "        array(['Weight'], dtype='<U6'), array(['Age'], dtype='<U3'),\n",
       "        array(['BMI'], dtype='<U3'),\n",
       "        array(['Balance_MLrange'], dtype='<U15'),\n",
       "        array(['Balance_MLstdev'], dtype='<U15'),\n",
       "        array(['Balance_MLmeanVelocity'], dtype='<U22'),\n",
       "        array(['Balance_APrange'], dtype='<U15'),\n",
       "        array(['Balance_APstdev'], dtype='<U15'),\n",
       "        array(['Balance_APmeanVelocity'], dtype='<U22'),\n",
       "        array(['Balance_MeanVelocity'], dtype='<U20'),\n",
       "        array(['GaitVelocity'], dtype='<U12'),\n",
       "        array(['MovementVelocity'], dtype='<U16')]], dtype=object)"
      ]
     },
     "execution_count": 36,
     "metadata": {},
     "output_type": "execute_result"
    }
   ],
   "source": [
    "spineMidData=matdata['SpineMidData']\n",
    "spineMidData[:1]"
   ]
  },
  {
   "cell_type": "code",
   "execution_count": 38,
   "metadata": {},
   "outputs": [
    {
     "data": {
      "text/plain": [
       "array([array(['TestID'], dtype='<U6'), array(['001A01'], dtype='<U6'),\n",
       "       array(['001A01'], dtype='<U6'), ...,\n",
       "       array(['169B03'], dtype='<U6'), array(['169B03'], dtype='<U6'),\n",
       "       array(['169B03'], dtype='<U6')], dtype=object)"
      ]
     },
     "execution_count": 38,
     "metadata": {},
     "output_type": "execute_result"
    }
   ],
   "source": [
    "spineMidData[:,0]"
   ]
  },
  {
   "cell_type": "code",
   "execution_count": null,
   "metadata": {},
   "outputs": [],
   "source": []
  }
 ],
 "metadata": {
  "kernelspec": {
   "display_name": "Python 3",
   "language": "python",
   "name": "python3"
  },
  "language_info": {
   "codemirror_mode": {
    "name": "ipython",
    "version": 3
   },
   "file_extension": ".py",
   "mimetype": "text/x-python",
   "name": "python",
   "nbconvert_exporter": "python",
   "pygments_lexer": "ipython3",
   "version": "3.6.4"
  }
 },
 "nbformat": 4,
 "nbformat_minor": 2
}
