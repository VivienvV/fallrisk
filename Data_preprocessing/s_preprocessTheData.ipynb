{
 "cells": [
  {
   "cell_type": "code",
   "execution_count": 82,
   "metadata": {},
   "outputs": [],
   "source": [
    "import pandas as pd\n",
    "import numpy as np"
   ]
  },
  {
   "cell_type": "code",
   "execution_count": 84,
   "metadata": {},
   "outputs": [],
   "source": [
    "df_0 = pd.read_csv(\"../Data/full_data.csv\")\n",
    "df_0 = df_0.drop([\"Unnamed: 0\"], axis=1) # remove extra index\n",
    "# display(df_0)"
   ]
  },
  {
   "cell_type": "markdown",
   "metadata": {},
   "source": [
    "### 1. Remove the NaNs"
   ]
  },
  {
   "cell_type": "code",
   "execution_count": 85,
   "metadata": {},
   "outputs": [],
   "source": [
    "# # check nans\n",
    "# print('Nans left:')\n",
    "# for header in list(df_0):\n",
    "#     if df_0[header].isna().any(): \n",
    "#         print(header)\n",
    "# # We find that we should delete subjectID's 75, 111 and 146, since in all their data, the values are missing.\n",
    "# nans = lambda df: df_0[df_0.isnull().any(axis=1)]\n",
    "# nans(df_0)"
   ]
  },
  {
   "cell_type": "code",
   "execution_count": 86,
   "metadata": {},
   "outputs": [
    {
     "name": "stdout",
     "output_type": "stream",
     "text": [
      "Before removing nans: True\n",
      "After removing nans: False\n"
     ]
    }
   ],
   "source": [
    "print('Before removing nans:', df_0.isna().any().any())\n",
    "\n",
    "df_1 = df_0.dropna()\n",
    "\n",
    "print('After removing nans:',df_1.isna().any().any())"
   ]
  },
  {
   "cell_type": "markdown",
   "metadata": {},
   "source": [
    "### 2. Only use trial 1"
   ]
  },
  {
   "cell_type": "code",
   "execution_count": 87,
   "metadata": {},
   "outputs": [
    {
     "name": "stdout",
     "output_type": "stream",
     "text": [
      "Before removing trail nr 1: 3\n",
      "After removing trail nr 1: 1\n"
     ]
    },
    {
     "name": "stderr",
     "output_type": "stream",
     "text": [
      "/usr/local/lib/python3.7/site-packages/ipykernel_launcher.py:3: UserWarning: Boolean Series key will be reindexed to match DataFrame index.\n",
      "  This is separate from the ipykernel package so we can avoid doing imports until\n"
     ]
    }
   ],
   "source": [
    "print('Before removing trail nr 1:', df_1[\"TrialNr\"].nunique())\n",
    "\n",
    "df_2 = df_1[df_0.TrialNr == 1]\n",
    "\n",
    "print('After removing trail nr 1:', df_2[\"TrialNr\"].nunique())"
   ]
  },
  {
   "cell_type": "markdown",
   "metadata": {},
   "source": [
    "### 3. Only use people that walked four segments"
   ]
  },
  {
   "cell_type": "code",
   "execution_count": 88,
   "metadata": {},
   "outputs": [
    {
     "name": "stdout",
     "output_type": "stream",
     "text": [
      "Before removing nr of segments: 6\n",
      "After removing nr of segments: 1\n"
     ]
    },
    {
     "name": "stderr",
     "output_type": "stream",
     "text": [
      "/usr/local/lib/python3.7/site-packages/ipykernel_launcher.py:3: UserWarning: Boolean Series key will be reindexed to match DataFrame index.\n",
      "  This is separate from the ipykernel package so we can avoid doing imports until\n"
     ]
    }
   ],
   "source": [
    "print('Before removing nr of segments:', df_2[\"NumberOfSegments\"].nunique())\n",
    "\n",
    "df_3 = df_2[df_1.NumberOfSegments == 4]\n",
    "\n",
    "print('After removing nr of segments:', df_3[\"NumberOfSegments\"].nunique())"
   ]
  },
  {
   "cell_type": "markdown",
   "metadata": {},
   "source": [
    "### 4. Only use people that were completely sober"
   ]
  },
  {
   "cell_type": "code",
   "execution_count": 89,
   "metadata": {},
   "outputs": [
    {
     "name": "stdout",
     "output_type": "stream",
     "text": [
      "Before removing Alcohol: 61\n",
      "After removing Alocohol: 1\n"
     ]
    },
    {
     "name": "stderr",
     "output_type": "stream",
     "text": [
      "/usr/local/lib/python3.7/site-packages/ipykernel_launcher.py:3: UserWarning: Boolean Series key will be reindexed to match DataFrame index.\n",
      "  This is separate from the ipykernel package so we can avoid doing imports until\n"
     ]
    }
   ],
   "source": [
    "print('Before removing Alcohol:', df_3[\"Alcohol\"].nunique())\n",
    "\n",
    "df_4 = df_3[df_2.Alcohol == 0.00]\n",
    "\n",
    "print('After removing Alocohol:', df_4[\"Alcohol\"].nunique())"
   ]
  },
  {
   "cell_type": "markdown",
   "metadata": {},
   "source": [
    "### 5. Remove columns with only 1 unique value"
   ]
  },
  {
   "cell_type": "code",
   "execution_count": 90,
   "metadata": {},
   "outputs": [],
   "source": [
    "# print('Number of unique values per column:')\n",
    "# for header in list(df_5):\n",
    "#     print(header, df_5[header].nunique())"
   ]
  },
  {
   "cell_type": "code",
   "execution_count": 91,
   "metadata": {},
   "outputs": [],
   "source": [
    "# remove columns that aren't neccesary anymore\n",
    "df_5 = df_4.drop([\"Alcohol\", \"NumberOfSegments\", \"TrialNr\"], axis=1)"
   ]
  },
  {
   "cell_type": "markdown",
   "metadata": {},
   "source": [
    "### 6. Drop the balance metric"
   ]
  },
  {
   "cell_type": "code",
   "execution_count": 92,
   "metadata": {},
   "outputs": [],
   "source": [
    "df_6 = df_5.drop(['Balance_MLrange','Balance_MLstdev','Balance_MLmeanVelocity','Balance_APrange',\"Balance_APstdev'\",'Balance_APmeanVelocity','Balance_MeanVelocity','GaitVelocity','MovementVelocity'], axis=1)"
   ]
  },
  {
   "cell_type": "markdown",
   "metadata": {},
   "source": [
    "### 7. Remove incomplete ID's"
   ]
  },
  {
   "cell_type": "code",
   "execution_count": 93,
   "metadata": {},
   "outputs": [],
   "source": [
    "df_7 = df_6.groupby('SubjectID').filter(lambda x : len(x) == 8)"
   ]
  },
  {
   "cell_type": "markdown",
   "metadata": {},
   "source": [
    "### 8. Reset the index"
   ]
  },
  {
   "cell_type": "code",
   "execution_count": 104,
   "metadata": {},
   "outputs": [],
   "source": [
    "df_8 = df_7.reset_index()\n",
    "df_8 = df_8.drop(\"index\", axis=1)"
   ]
  },
  {
   "cell_type": "markdown",
   "metadata": {},
   "source": [
    "### Save the final result"
   ]
  },
  {
   "cell_type": "code",
   "execution_count": 107,
   "metadata": {},
   "outputs": [],
   "source": [
    "# display(df_8)\n",
    "# print(df_8.shape)"
   ]
  },
  {
   "cell_type": "code",
   "execution_count": 108,
   "metadata": {},
   "outputs": [],
   "source": [
    "df_8.to_csv(path_or_buf=\"../Data/preprocessed_full_data.csv\")"
   ]
  },
  {
   "cell_type": "code",
   "execution_count": null,
   "metadata": {},
   "outputs": [],
   "source": []
  }
 ],
 "metadata": {
  "kernelspec": {
   "display_name": "Python 3",
   "language": "python",
   "name": "python3"
  },
  "language_info": {
   "codemirror_mode": {
    "name": "ipython",
    "version": 3
   },
   "file_extension": ".py",
   "mimetype": "text/x-python",
   "name": "python",
   "nbconvert_exporter": "python",
   "pygments_lexer": "ipython3",
   "version": "3.7.0"
  }
 },
 "nbformat": 4,
 "nbformat_minor": 2
}
