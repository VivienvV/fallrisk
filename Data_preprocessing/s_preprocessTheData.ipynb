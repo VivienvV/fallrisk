{
 "cells": [
  {
   "cell_type": "code",
   "execution_count": 1,
   "metadata": {},
   "outputs": [],
   "source": [
    "import pandas as pd\n",
    "import numpy as np"
   ]
  },
  {
   "cell_type": "markdown",
   "metadata": {},
   "source": [
    "- Zitten een paar NaN’s in BMI en alcohol. Mochten we deze kolommen gaan gebruiken dan moeten de deelnemers met de NaN’s verwijderd worden. \n",
    "- 92.18 % zit in trial number 1, de rest van de deelnemers hebben meerdere trials. We kiezen ervoor om die deelnemers in eerste instantie eruit te verwijderen. Echter, we kunnen ook alleen van die deelnemers de eerste trial nemen. Even kijken wat we doen? We kiezen ervoor om in eerste instantie de trials 2 en 3 te verwijderen. Later kunnen we ze altijd nog toevoegen. \n",
    "- Het aantal segmenten wisselt per deelnemer. De meeste deelnemers hebben vier segmenten gelopen. 91.76 % heeft 4 segments gelopen. Dus we zouden de deelnemers met minder segmenten kunnen verwijderen. \n",
    "- Ook verschilt het hoe vaak deelnemers vooruit en achteruit lopen. Even kijken wat we willen doen.\n",
    "- Meer dan de helft van de deelnemers hebben helemaal geen alcohol gedronken (55.83%). We zouden ons voor 1 classifier alleen die 50 deelnemers kunnen gebruiken en dan vergelijken met mensen die wel alcohol hebben gedronken. In eerste instantie gaan we alleen de deelnemers zonder alcohol gebruiken. Later zouden we drie categorie kunnen maken met alcohol en kijken of het dan anders wordt voor het ML algoritme. \n"
   ]
  },
  {
   "cell_type": "code",
   "execution_count": 2,
   "metadata": {},
   "outputs": [],
   "source": [
    "df_0 = pd.read_csv(\"../Data/SpineMidData.csv\")\n",
    "# display(df)"
   ]
  },
  {
   "cell_type": "code",
   "execution_count": 3,
   "metadata": {},
   "outputs": [
    {
     "name": "stdout",
     "output_type": "stream",
     "text": [
      "Nans left:\n",
      "Alcohol\n",
      "Weight\n",
      "BMI\n"
     ]
    }
   ],
   "source": [
    "print('Nans left:')\n",
    "for header in list(df_0):\n",
    "    if df_0[header].isna().any(): \n",
    "        print(header)"
   ]
  },
  {
   "cell_type": "code",
   "execution_count": 4,
   "metadata": {},
   "outputs": [],
   "source": [
    "# # We find that we should delete subjectID's 75, 111 and 146, since in all their data, the values are missing.\n",
    "# nans = lambda df: df_0[df_0.isnull().any(axis=1)]\n",
    "# nans(df_0)"
   ]
  },
  {
   "cell_type": "code",
   "execution_count": 5,
   "metadata": {},
   "outputs": [
    {
     "name": "stdout",
     "output_type": "stream",
     "text": [
      "Before removing nans: True\n",
      "After removing nans: False\n"
     ]
    }
   ],
   "source": [
    "print('Before removing nans:', df_0.isna().any().any())\n",
    "\n",
    "# only use trail nr 1\n",
    "df_1 = df_0.dropna()\n",
    "\n",
    "print('After removing nans:',df_1.isna().any().any())"
   ]
  },
  {
   "cell_type": "code",
   "execution_count": 6,
   "metadata": {},
   "outputs": [
    {
     "name": "stdout",
     "output_type": "stream",
     "text": [
      "Before removing trail nr 1: 3\n",
      "After removing trail nr 1: 1\n"
     ]
    },
    {
     "name": "stderr",
     "output_type": "stream",
     "text": [
      "/usr/local/lib/python3.7/site-packages/ipykernel_launcher.py:4: UserWarning: Boolean Series key will be reindexed to match DataFrame index.\n",
      "  after removing the cwd from sys.path.\n"
     ]
    }
   ],
   "source": [
    "print('Before removing trail nr 1:', df_1[\"TrialNr\"].nunique())\n",
    "\n",
    "# only use trail nr 1\n",
    "df_2 = df_1[df_0.TrialNr == 1]\n",
    "\n",
    "print('After removing trail nr 1:', df_2[\"TrialNr\"].nunique())"
   ]
  },
  {
   "cell_type": "code",
   "execution_count": 7,
   "metadata": {},
   "outputs": [
    {
     "name": "stdout",
     "output_type": "stream",
     "text": [
      "Before removing nr of segments: 6\n",
      "After removing nr of segments: 1\n"
     ]
    },
    {
     "name": "stderr",
     "output_type": "stream",
     "text": [
      "/usr/local/lib/python3.7/site-packages/ipykernel_launcher.py:4: UserWarning: Boolean Series key will be reindexed to match DataFrame index.\n",
      "  after removing the cwd from sys.path.\n"
     ]
    }
   ],
   "source": [
    "print('Before removing nr of segments:', df_2[\"NumberOfSegments\"].nunique())\n",
    "\n",
    "# only use trail nr 1\n",
    "df_3 = df_2[df_1.NumberOfSegments == 4]\n",
    "\n",
    "print('After removing nr of segments:', df_3[\"NumberOfSegments\"].nunique())"
   ]
  },
  {
   "cell_type": "code",
   "execution_count": 8,
   "metadata": {},
   "outputs": [
    {
     "name": "stdout",
     "output_type": "stream",
     "text": [
      "Before removing nr of segments: 61\n",
      "After removing nr of segments: 1\n"
     ]
    },
    {
     "name": "stderr",
     "output_type": "stream",
     "text": [
      "/usr/local/lib/python3.7/site-packages/ipykernel_launcher.py:4: UserWarning: Boolean Series key will be reindexed to match DataFrame index.\n",
      "  after removing the cwd from sys.path.\n"
     ]
    }
   ],
   "source": [
    "print('Before removing nr of segments:', df_3[\"Alcohol\"].nunique())\n",
    "\n",
    "# only use trail nr 1\n",
    "df_4 = df_3[df_2.Alcohol == 0.00]\n",
    "\n",
    "print('After removing nr of segments:', df_4[\"Alcohol\"].nunique())"
   ]
  },
  {
   "cell_type": "code",
   "execution_count": 9,
   "metadata": {},
   "outputs": [
    {
     "name": "stdout",
     "output_type": "stream",
     "text": [
      "Number of unique values per column:\n",
      "TestID 203\n",
      "Conditie 1\n",
      "SubjectID 113\n",
      "TrialNr 1\n",
      "NumberOfSegments 1\n",
      "SegmentNr 4\n",
      "WalkingDirection 1\n",
      "SegmentData 79\n",
      "Alcohol 1\n",
      "Height 34\n",
      "Weight 41\n",
      "Age 26\n",
      "BMI 104\n",
      "Balance_MLrange 203\n",
      "Balance_MLstdev 203\n",
      "Balance_MLmeanVelocity 203\n",
      "Balance_APrange 203\n",
      "Balance_APstdev' 203\n",
      "Balance_APmeanVelocity 203\n",
      "Balance_MeanVelocity 203\n",
      "GaitVelocity 811\n",
      "MovementVelocity 811\n"
     ]
    }
   ],
   "source": [
    "print('Number of unique values per column:')\n",
    "for header in list(df_4):\n",
    "    print(header, df_4[header].nunique())"
   ]
  },
  {
   "cell_type": "code",
   "execution_count": 10,
   "metadata": {},
   "outputs": [],
   "source": [
    "# remove columns that aren't neccesary anymore: Alcohol, NumberOfSegments and TrialNr\n",
    "df_5 = df_4.drop([\"Alcohol\", \"NumberOfSegments\", \"TrialNr\"], axis=1)"
   ]
  },
  {
   "cell_type": "code",
   "execution_count": 11,
   "metadata": {},
   "outputs": [],
   "source": [
    "# At last, reset the index (DO WHEN MATLAB IS DONE)\n",
    "df_6 = df_5.reset_index()"
   ]
  },
  {
   "cell_type": "code",
   "execution_count": 14,
   "metadata": {},
   "outputs": [],
   "source": [
    "df_6.to_csv(path_or_buf=\"../Data/preprocessed_SpineMidData.csv\")"
   ]
  },
  {
   "cell_type": "code",
   "execution_count": null,
   "metadata": {},
   "outputs": [],
   "source": []
  }
 ],
 "metadata": {
  "kernelspec": {
   "display_name": "Python 3",
   "language": "python",
   "name": "python3"
  },
  "language_info": {
   "codemirror_mode": {
    "name": "ipython",
    "version": 3
   },
   "file_extension": ".py",
   "mimetype": "text/x-python",
   "name": "python",
   "nbconvert_exporter": "python",
   "pygments_lexer": "ipython3",
   "version": "3.7.0"
  }
 },
 "nbformat": 4,
 "nbformat_minor": 2
}
