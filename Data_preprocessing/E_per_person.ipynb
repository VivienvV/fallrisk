{
 "cells": [
  {
   "cell_type": "code",
   "execution_count": 39,
   "metadata": {},
   "outputs": [],
   "source": [
    "import pandas as pd\n",
    "import numpy as np"
   ]
  },
  {
   "cell_type": "code",
   "execution_count": 40,
   "metadata": {},
   "outputs": [],
   "source": [
    "df_data = pd.read_csv(\"../Data/preprocessed_conditiondata_vars.csv\")\n",
    "# display(df_data)"
   ]
  },
  {
   "cell_type": "code",
   "execution_count": 41,
   "metadata": {},
   "outputs": [],
   "source": [
    "# list(df_data)"
   ]
  },
  {
   "cell_type": "code",
   "execution_count": 42,
   "metadata": {},
   "outputs": [],
   "source": [
    "aggregation_functions = {\n",
    " 'Conditie': 'first',\n",
    " 'SubjectID': 'first',\n",
    " 'Height': 'mean',\n",
    " 'Weight': 'mean',\n",
    " 'Age': 'mean',\n",
    " 'BMI': 'mean',\n",
    " 'std_SegmentData': 'mean',\n",
    " 'mad_SegmentData': 'mean',\n",
    " 'AverageStepLength': 'mean'}\n",
    "df_new = df_data.groupby(df_data['TestID']).aggregate(aggregation_functions)"
   ]
  },
  {
   "cell_type": "code",
   "execution_count": 43,
   "metadata": {},
   "outputs": [],
   "source": [
    "# display(df_new)\n",
    "df_new.to_csv(path_or_buf=\"../Data/preprocessed_conditiondata_perperson.csv\", index=False)"
   ]
  },
  {
   "cell_type": "code",
   "execution_count": null,
   "metadata": {},
   "outputs": [],
   "source": []
  }
 ],
 "metadata": {
  "kernelspec": {
   "display_name": "Python 3",
   "language": "python",
   "name": "python3"
  },
  "language_info": {
   "codemirror_mode": {
    "name": "ipython",
    "version": 3
   },
   "file_extension": ".py",
   "mimetype": "text/x-python",
   "name": "python",
   "nbconvert_exporter": "python",
   "pygments_lexer": "ipython3",
   "version": "3.6.4"
  }
 },
 "nbformat": 4,
 "nbformat_minor": 2
}
