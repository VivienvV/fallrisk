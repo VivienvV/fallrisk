{
 "cells": [
  {
   "cell_type": "code",
   "execution_count": 6,
   "metadata": {},
   "outputs": [],
   "source": [
    "import pandas as pd\n",
    "import numpy as np"
   ]
  },
  {
   "cell_type": "markdown",
   "metadata": {},
   "source": [
    "- Zitten een paar NaN’s in BMI en alcohol. Mochten we deze kolommen gaan gebruiken dan moeten de deelnemers met de NaN’s verwijderd worden. \n",
    "- 92.18 % zit in trial number 1, de rest van de deelnemers hebben meerdere trials. We kiezen ervoor om die deelnemers in eerste instantie eruit te verwijderen. Echter, we kunnen ook alleen van die deelnemers de eerste trial nemen. Even kijken wat we doen? We kiezen ervoor om in eerste instantie de trials 2 en 3 te verwijderen. Later kunnen we ze altijd nog toevoegen. \n",
    "- Het aantal segmenten wisselt per deelnemer. De meeste deelnemers hebben vier segmenten gelopen. 91.76 % heeft 4 segments gelopen. Dus we zouden de deelnemers met minder segmenten kunnen verwijderen. \n",
    "- Ook verschilt het hoe vaak deelnemers vooruit en achteruit lopen. Even kijken wat we willen doen.\n",
    "- Meer dan de helft van de deelnemers hebben helemaal geen alcohol gedronken (55.83%). We zouden ons voor 1 classifier alleen die 50 deelnemers kunnen gebruiken en dan vergelijken met mensen die wel alcohol hebben gedronken. In eerste instantie gaan we alleen de deelnemers zonder alcohol gebruiken. Later zouden we drie categorie kunnen maken met alcohol en kijken of het dan anders wordt voor het ML algoritme. \n"
   ]
  },
  {
   "cell_type": "code",
   "execution_count": 22,
   "metadata": {},
   "outputs": [],
   "source": [
    "df_0 = pd.read_csv(\"../Data/preprocessed_FILENAME.csv\") # ADD FILENAME\n",
    "df_0 = df_0.drop([\"Unnamed: 0\"], axis=1) # remove extra index\n",
    "# display(df_0)"
   ]
  },
  {
   "cell_type": "code",
   "execution_count": 23,
   "metadata": {},
   "outputs": [
    {
     "name": "stdout",
     "output_type": "stream",
     "text": [
      "Nans left:\n"
     ]
    }
   ],
   "source": [
    "print('Nans left:')\n",
    "for header in list(df_0):\n",
    "    if df_0[header].isna().any(): \n",
    "        print(header)"
   ]
  },
  {
   "cell_type": "code",
   "execution_count": 15,
   "metadata": {},
   "outputs": [],
   "source": [
    "# # We find that we should delete subjectID's 75, 111 and 146, since in all their data, the values are missing.\n",
    "# nans = lambda df: df_0[df_0.isnull().any(axis=1)]\n",
    "# nans(df_0)"
   ]
  },
  {
   "cell_type": "code",
   "execution_count": 24,
   "metadata": {},
   "outputs": [],
   "source": [
    "# print('Before removing nans:', df_0.isna().any().any())\n",
    "\n",
    "# # only use trail nr 1\n",
    "# df_1 = df_0.dropna()\n",
    "\n",
    "# print('After removing nans:',df_1.isna().any().any())"
   ]
  },
  {
   "cell_type": "code",
   "execution_count": 25,
   "metadata": {},
   "outputs": [],
   "source": [
    "# print('Before removing trail nr 1:', df_1[\"TrialNr\"].nunique())\n",
    "\n",
    "# # only use trail nr 1\n",
    "# df_2 = df_1[df_0.TrialNr == 1]\n",
    "\n",
    "# print('After removing trail nr 1:', df_2[\"TrialNr\"].nunique())"
   ]
  },
  {
   "cell_type": "code",
   "execution_count": 26,
   "metadata": {},
   "outputs": [],
   "source": [
    "# print('Before removing nr of segments:', df_2[\"NumberOfSegments\"].nunique())\n",
    "\n",
    "# # only use trail nr 1\n",
    "# df_3 = df_2[df_1.NumberOfSegments == 4]\n",
    "\n",
    "# print('After removing nr of segments:', df_3[\"NumberOfSegments\"].nunique())"
   ]
  },
  {
   "cell_type": "code",
   "execution_count": 27,
   "metadata": {},
   "outputs": [],
   "source": [
    "# print('Before removing nr of segments:', df_3[\"Alcohol\"].nunique())\n",
    "\n",
    "# # only use trail nr 1\n",
    "# df_4 = df_3[df_2.Alcohol == 0.00]\n",
    "\n",
    "# print('After removing nr of segments:', df_4[\"Alcohol\"].nunique())"
   ]
  },
  {
   "cell_type": "code",
   "execution_count": 28,
   "metadata": {},
   "outputs": [],
   "source": [
    "# df_5 = df_4.reset_index()"
   ]
  },
  {
   "cell_type": "code",
   "execution_count": 29,
   "metadata": {},
   "outputs": [],
   "source": [
    "# print('Number of unique values per column:')\n",
    "# for header in list(df_5):\n",
    "#     print(header, df_5[header].nunique())"
   ]
  },
  {
   "cell_type": "code",
   "execution_count": 101,
   "metadata": {},
   "outputs": [],
   "source": [
    "# # remove columns that aren't neccesary anymore\n",
    "# df_6 = df_5.drop([\"index\", \"Alcohol\", \"NumberOfSegments\", \"TrialNr\"], axis=1)"
   ]
  },
  {
   "cell_type": "code",
   "execution_count": 33,
   "metadata": {},
   "outputs": [],
   "source": [
    "df_7 = df_6.drop(['Balance_MLrange','Balance_MLstdev','Balance_MLmeanVelocity','Balance_APrange',\"Balance_APstdev'\",'Balance_APmeanVelocity','Balance_MeanVelocity','GaitVelocity','MovementVelocity'], axis=1)"
   ]
  },
  {
   "cell_type": "code",
   "execution_count": 35,
   "metadata": {},
   "outputs": [],
   "source": [
    "df_7.to_csv(path_or_buf=\"../Data/preprocessed_FILENAME.csv\") # ADD FILENAME"
   ]
  },
  {
   "cell_type": "code",
   "execution_count": 104,
   "metadata": {},
   "outputs": [],
   "source": [
    "# display(df_6)"
   ]
  },
  {
   "cell_type": "code",
   "execution_count": null,
   "metadata": {},
   "outputs": [],
   "source": []
  }
 ],
 "metadata": {
  "kernelspec": {
   "display_name": "Python 3",
   "language": "python",
   "name": "python3"
  },
  "language_info": {
   "codemirror_mode": {
    "name": "ipython",
    "version": 3
   },
   "file_extension": ".py",
   "mimetype": "text/x-python",
   "name": "python",
   "nbconvert_exporter": "python",
   "pygments_lexer": "ipython3",
   "version": "3.7.0"
  }
 },
 "nbformat": 4,
 "nbformat_minor": 2
}
