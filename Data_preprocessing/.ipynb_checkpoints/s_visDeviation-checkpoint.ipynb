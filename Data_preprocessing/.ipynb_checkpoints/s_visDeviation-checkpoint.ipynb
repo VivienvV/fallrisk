{
 "cells": [
  {
   "cell_type": "code",
   "execution_count": null,
   "metadata": {},
   "outputs": [],
   "source": [
    "import pandas as pd\n",
    "import numpy as np\n",
    "import matplotlib.pyplot as plt"
   ]
  },
  {
   "cell_type": "code",
   "execution_count": null,
   "metadata": {},
   "outputs": [],
   "source": [
    "chars = [\"array([[2]], dtype=uint8\", \"array\", \"\\n\", \"[\", \"]\", \"(\", \")\"]\n",
    "\n",
    "def string_to_ndarray(sd):\n",
    "    for char in chars:\n",
    "        sd = sd.replace(char, \"\")\n",
    "\n",
    "    sd = sd.replace(\"   \", \" \")\n",
    "    sd = sd[:-2]\n",
    "\n",
    "    sd_lst = sd.split(\" \")\n",
    "    sd_lst = [float(i) for i in sd_lst]\n",
    "\n",
    "    sd_arr = np.asarray(sd_lst)\n",
    "    sd_arr = np.split(sd_arr, len(sd_arr)/3)\n",
    "    \n",
    "    return np.asarray(sd_arr)"
   ]
  },
  {
   "cell_type": "code",
   "execution_count": null,
   "metadata": {},
   "outputs": [],
   "source": [
    "df_data = pd.read_csv(\"../Data/preprocessed_alcohol_balance.csv\")\n",
    "# display(df_data)\n",
    "print(df_data.shape)"
   ]
  },
  {
   "cell_type": "code",
   "execution_count": null,
   "metadata": {},
   "outputs": [],
   "source": [
    "print(list(df_data))"
   ]
  },
  {
   "cell_type": "code",
   "execution_count": null,
   "metadata": {},
   "outputs": [],
   "source": [
    "fig = plt.figure(figsize=(20, 15))\n",
    "ax1 = fig.add_subplot(221)\n",
    "ax2 = fig.add_subplot(222, sharex=ax1, sharey=ax1)\n",
    "ax3 = fig.add_subplot(223, sharex=ax1, sharey=ax1)\n",
    "ax4 = fig.add_subplot(224, sharex=ax1, sharey=ax1)\n",
    "# ax5 = fig.add_subplot(235, sharex=ax1, sharey=ax1)\n",
    "# ax6 = fig.add_subplot(236, sharex=ax1, sharey=ax1)\n",
    "\n",
    "numbers = [36, 40, 48, 52, 56, 80]\n",
    "axes = [ax1, ax2, ax3, ax4, ax5, ax6]\n",
    "\n",
    "for number in range(0, 4):\n",
    "    i = numbers[number]\n",
    "    ax = axes[number]\n",
    "    \n",
    "    n_data = df_data[\"SegmentData\"][i]\n",
    "    n_data_arr = string_to_ndarray(n_data)\n",
    "    n_x = n_data_arr[:,0]\n",
    "    n_z = n_data_arr[:,2]\n",
    "\n",
    "    b_data = df_data[\"SegmentData\"][i + 616]\n",
    "    b_data_arr = string_to_ndarray(b_data)\n",
    "    b_x = b_data_arr[:,0]\n",
    "    b_z = b_data_arr[:,2]\n",
    "\n",
    "    n_ave = np.average(n_x)\n",
    "    n_ave_arr = np.full((n_z.size), n_ave)\n",
    "    b_ave = np.average(b_x)\n",
    "    b_ave_arr = np.full((b_z.size), b_ave)\n",
    "\n",
    "    title = 'Imbalance of Subject ' + str(df_data[\"SubjectID\"][i])\n",
    "    ax.set_title(title)\n",
    "    ax.plot(n_x, n_z, color='orange', label='Normal')\n",
    "    ax.plot(n_ave_arr, n_z, color='purple')\n",
    "    ax.plot(b_x, b_z, color='blue', label='With glasses')\n",
    "    ax.plot(b_ave_arr, b_z, color='red')\n",
    "    ax.set_xlim(-0.3, 0.3)\n",
    "    ax.set_xlabel('Imbalance (x-coördinate)')\n",
    "    ax.set_ylabel('Walking distance (z-coördinate)')\n",
    "    ax.legend()\n",
    "\n",
    "# fig.savefig('imbalance.png')\n",
    "fig.show()"
   ]
  },
  {
   "cell_type": "code",
   "execution_count": null,
   "metadata": {},
   "outputs": [],
   "source": []
  }
 ],
 "metadata": {
  "kernelspec": {
   "display_name": "Python 3",
   "language": "python",
   "name": "python3"
  },
  "language_info": {
   "codemirror_mode": {
    "name": "ipython",
    "version": 3
   },
   "file_extension": ".py",
   "mimetype": "text/x-python",
   "name": "python",
   "nbconvert_exporter": "python",
   "pygments_lexer": "ipython3",
   "version": "3.7.0"
  }
 },
 "nbformat": 4,
 "nbformat_minor": 2
}
