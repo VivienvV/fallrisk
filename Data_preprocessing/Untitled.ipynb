{
 "cells": [
  {
   "cell_type": "code",
   "execution_count": 1,
   "metadata": {},
   "outputs": [],
   "source": [
    "from scipy.io import loadmat"
   ]
  },
  {
   "cell_type": "code",
   "execution_count": 2,
   "metadata": {},
   "outputs": [],
   "source": [
    "matdata = loadmat(\"../Data/SpineMidData_21032018.mat\")"
   ]
  },
  {
   "cell_type": "code",
   "execution_count": 5,
   "metadata": {},
   "outputs": [
    {
     "name": "stdout",
     "output_type": "stream",
     "text": [
      "{'__header__': b'MATLAB 5.0 MAT-file, Platform: MACI64, Created on: Wed Mar 21 14:50:01 2018', '__version__': '1.0', '__globals__': [], 'SpineMidData': array([[array(['TestID'], dtype='<U6'), array(['Conditie'], dtype='<U8'),\n",
      "        array(['SubjectID'], dtype='<U9'), ...,\n",
      "        array(['Balance_MeanVelocity'], dtype='<U20'),\n",
      "        array(['GaitVelocity'], dtype='<U12'),\n",
      "        array(['MovementVelocity'], dtype='<U16')],\n",
      "       [array(['001A01'], dtype='<U6'),\n",
      "        MatlabOpaque([(b'', b'MCOS', b'categorical', array([[3707764736],\n",
      "       [         2],\n",
      "       [         1],\n",
      "       [         1],\n",
      "       [         1],\n",
      "       [         1]], dtype=uint32))],\n",
      "             dtype=[('s0', 'O'), ('s1', 'O'), ('s2', 'O'), ('arr', 'O')]),\n",
      "        array([[1]], dtype=uint8), ..., array([[4.29941109]]),\n",
      "        array([[1.0740982]]), array([[1.08116573]])],\n",
      "       [array(['001A01'], dtype='<U6'),\n",
      "        MatlabOpaque([(b'', b'MCOS', b'categorical', array([[3707764736],\n",
      "       [         2],\n",
      "       [         1],\n",
      "       [         1],\n",
      "       [         2],\n",
      "       [         1]], dtype=uint32))],\n",
      "             dtype=[('s0', 'O'), ('s1', 'O'), ('s2', 'O'), ('arr', 'O')]),\n",
      "        array([[1]], dtype=uint8), ..., array([[4.29941109]]),\n",
      "        array([[1.08220483]]), array([[1.08554896]])],\n",
      "       ...,\n",
      "       [array(['169B03'], dtype='<U6'),\n",
      "        MatlabOpaque([(b'', b'MCOS', b'categorical', array([[3707764736],\n",
      "       [         2],\n",
      "       [         1],\n",
      "       [         1],\n",
      "       [      1660],\n",
      "       [         1]], dtype=uint32))],\n",
      "             dtype=[('s0', 'O'), ('s1', 'O'), ('s2', 'O'), ('arr', 'O')]),\n",
      "        array([[169]], dtype=uint8), ..., array([[6.25442517]]),\n",
      "        array([[1.16325839]]), array([[1.16325855]])],\n",
      "       [array(['169B03'], dtype='<U6'),\n",
      "        MatlabOpaque([(b'', b'MCOS', b'categorical', array([[3707764736],\n",
      "       [         2],\n",
      "       [         1],\n",
      "       [         1],\n",
      "       [      1661],\n",
      "       [         1]], dtype=uint32))],\n",
      "             dtype=[('s0', 'O'), ('s1', 'O'), ('s2', 'O'), ('arr', 'O')]),\n",
      "        array([[169]], dtype=uint8), ..., array([[6.25442517]]),\n",
      "        array([[1.24402646]]), array([[1.24515657]])],\n",
      "       [array(['169B03'], dtype='<U6'),\n",
      "        MatlabOpaque([(b'', b'MCOS', b'categorical', array([[3707764736],\n",
      "       [         2],\n",
      "       [         1],\n",
      "       [         1],\n",
      "       [      1662],\n",
      "       [         1]], dtype=uint32))],\n",
      "             dtype=[('s0', 'O'), ('s1', 'O'), ('s2', 'O'), ('arr', 'O')]),\n",
      "        array([[169]], dtype=uint8), ..., array([[6.25442517]]),\n",
      "        array([[1.12446449]]), array([[1.12481526]])]], dtype=object), '__function_workspace__': array([[ 0,  1, 73, ...,  0,  0,  0]], dtype=uint8)}\n"
     ]
    }
   ],
   "source": [
    "print(matdata)"
   ]
  },
  {
   "cell_type": "code",
   "execution_count": null,
   "metadata": {},
   "outputs": [],
   "source": []
  }
 ],
 "metadata": {
  "kernelspec": {
   "display_name": "Python 3",
   "language": "python",
   "name": "python3"
  },
  "language_info": {
   "codemirror_mode": {
    "name": "ipython",
    "version": 3
   },
   "file_extension": ".py",
   "mimetype": "text/x-python",
   "name": "python",
   "nbconvert_exporter": "python",
   "pygments_lexer": "ipython3",
   "version": "3.7.0"
  }
 },
 "nbformat": 4,
 "nbformat_minor": 2
}
