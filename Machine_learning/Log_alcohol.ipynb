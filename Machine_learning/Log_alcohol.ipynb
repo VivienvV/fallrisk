{
 "cells": [
  {
   "cell_type": "code",
   "execution_count": 1,
   "metadata": {},
   "outputs": [
    {
     "data": {
      "text/html": [
       "<div>\n",
       "<style scoped>\n",
       "    .dataframe tbody tr th:only-of-type {\n",
       "        vertical-align: middle;\n",
       "    }\n",
       "\n",
       "    .dataframe tbody tr th {\n",
       "        vertical-align: top;\n",
       "    }\n",
       "\n",
       "    .dataframe thead th {\n",
       "        text-align: right;\n",
       "    }\n",
       "</style>\n",
       "<table border=\"1\" class=\"dataframe\">\n",
       "  <thead>\n",
       "    <tr style=\"text-align: right;\">\n",
       "      <th></th>\n",
       "      <th>Conditie</th>\n",
       "      <th>SubjectID</th>\n",
       "      <th>Alcohol</th>\n",
       "      <th>Height</th>\n",
       "      <th>Weight</th>\n",
       "      <th>Age</th>\n",
       "      <th>BMI</th>\n",
       "      <th>Balance_MLrange</th>\n",
       "      <th>Balance_MLstdev</th>\n",
       "      <th>Balance_MLmeanVelocity</th>\n",
       "      <th>Balance_APrange</th>\n",
       "      <th>Balance_APstdev'</th>\n",
       "      <th>Balance_APmeanVelocity</th>\n",
       "      <th>Balance_MeanVelocity</th>\n",
       "      <th>GaitVelocity</th>\n",
       "      <th>MovementVelocity</th>\n",
       "      <th>mad_SegmentData</th>\n",
       "      <th>mean_StepLength</th>\n",
       "      <th>Velocity</th>\n",
       "    </tr>\n",
       "    <tr>\n",
       "      <th>Alcohol_Class</th>\n",
       "      <th></th>\n",
       "      <th></th>\n",
       "      <th></th>\n",
       "      <th></th>\n",
       "      <th></th>\n",
       "      <th></th>\n",
       "      <th></th>\n",
       "      <th></th>\n",
       "      <th></th>\n",
       "      <th></th>\n",
       "      <th></th>\n",
       "      <th></th>\n",
       "      <th></th>\n",
       "      <th></th>\n",
       "      <th></th>\n",
       "      <th></th>\n",
       "      <th></th>\n",
       "      <th></th>\n",
       "      <th></th>\n",
       "    </tr>\n",
       "  </thead>\n",
       "  <tbody>\n",
       "    <tr>\n",
       "      <th>0</th>\n",
       "      <td>90</td>\n",
       "      <td>90</td>\n",
       "      <td>90</td>\n",
       "      <td>90</td>\n",
       "      <td>90</td>\n",
       "      <td>90</td>\n",
       "      <td>90</td>\n",
       "      <td>90</td>\n",
       "      <td>90</td>\n",
       "      <td>90</td>\n",
       "      <td>90</td>\n",
       "      <td>90</td>\n",
       "      <td>90</td>\n",
       "      <td>90</td>\n",
       "      <td>90</td>\n",
       "      <td>90</td>\n",
       "      <td>90</td>\n",
       "      <td>90</td>\n",
       "      <td>90</td>\n",
       "    </tr>\n",
       "    <tr>\n",
       "      <th>1</th>\n",
       "      <td>64</td>\n",
       "      <td>64</td>\n",
       "      <td>64</td>\n",
       "      <td>64</td>\n",
       "      <td>64</td>\n",
       "      <td>64</td>\n",
       "      <td>64</td>\n",
       "      <td>64</td>\n",
       "      <td>64</td>\n",
       "      <td>64</td>\n",
       "      <td>64</td>\n",
       "      <td>64</td>\n",
       "      <td>64</td>\n",
       "      <td>64</td>\n",
       "      <td>64</td>\n",
       "      <td>64</td>\n",
       "      <td>64</td>\n",
       "      <td>64</td>\n",
       "      <td>64</td>\n",
       "    </tr>\n",
       "  </tbody>\n",
       "</table>\n",
       "</div>"
      ],
      "text/plain": [
       "               Conditie  SubjectID  Alcohol  Height  Weight  Age  BMI  \\\n",
       "Alcohol_Class                                                           \n",
       "0                    90         90       90      90      90   90   90   \n",
       "1                    64         64       64      64      64   64   64   \n",
       "\n",
       "               Balance_MLrange  Balance_MLstdev  Balance_MLmeanVelocity  \\\n",
       "Alcohol_Class                                                             \n",
       "0                           90               90                      90   \n",
       "1                           64               64                      64   \n",
       "\n",
       "               Balance_APrange  Balance_APstdev'  Balance_APmeanVelocity  \\\n",
       "Alcohol_Class                                                              \n",
       "0                           90                90                      90   \n",
       "1                           64                64                      64   \n",
       "\n",
       "               Balance_MeanVelocity  GaitVelocity  MovementVelocity  \\\n",
       "Alcohol_Class                                                         \n",
       "0                                90            90                90   \n",
       "1                                64            64                64   \n",
       "\n",
       "               mad_SegmentData  mean_StepLength  Velocity  \n",
       "Alcohol_Class                                              \n",
       "0                           90               90        90  \n",
       "1                           64               64        64  "
      ]
     },
     "execution_count": 1,
     "metadata": {},
     "output_type": "execute_result"
    }
   ],
   "source": [
    "import pandas as pd  \n",
    "import numpy as np  \n",
    "import matplotlib.pyplot as plt\n",
    "from sklearn import tree\n",
    "from sklearn.tree import DecisionTreeClassifier  \n",
    "from sklearn.metrics import classification_report, confusion_matrix, precision_recall_fscore_support, accuracy_score  \n",
    "from sklearn.linear_model import LogisticRegression\n",
    "from sklearn import datasets\n",
    "from sklearn.metrics import accuracy_score\n",
    "from sklearn.metrics import classification_report\n",
    "from sklearn.model_selection import train_test_split\n",
    "from scipy.io import loadmat\n",
    "import itertools\n",
    "from sklearn import metrics\n",
    "from sklearn.naive_bayes import GaussianNB\n",
    "from sklearn.neighbors import KNeighborsRegressor\n",
    "from sklearn.neighbors import KNeighborsClassifier\n",
    "from sklearn.metrics import confusion_matrix, accuracy_score\n",
    "from sklearn.model_selection import cross_val_score\n",
    "from sklearn import tree\n",
    "from sklearn.neural_network import MLPClassifier\n",
    "from sklearn.preprocessing import StandardScaler\n",
    "from sklearn.decomposition import PCA\n",
    "from sklearn.discriminant_analysis import LinearDiscriminantAnalysis as LDA\n",
    "np.set_printoptions(threshold=np.nan)\n",
    "\n",
    "pdata = pd.read_csv(\"../Data/preprocessed_alcoholperson_balance.csv\")\n",
    "# pdata = pdata.drop([\"Unnamed: 0\"], axis=1)\n",
    "pdata['Conditie'] = pdata['Conditie'].map({'norm': 0,  'bril': 1})\n",
    "pdata = pdata.drop(pdata[pdata[\"Conditie\"] > 0].index)\n",
    "# pdata = pdata.drop(pdata[pdata.Alcohol.eq(0)].sample(82).index)\n",
    "\n",
    "pdata['Alcohol_Class'] = pdata['Alcohol'].astype(float)\n",
    "conditions = [\n",
    "    (pdata['Alcohol'] < 0),\n",
    "    (pdata['Alcohol'] > 0)]\n",
    "choices = [0,1]\n",
    "pdata['Alcohol_Class'] = np.select(conditions, choices, default=0)\n",
    "pdata.groupby('Alcohol_Class').count()\n",
    "# pdata\n",
    "# with pd.option_context('display.max_rows', None, 'display.max_columns', None):\n",
    "#     display(pdata)"
   ]
  },
  {
   "cell_type": "code",
   "execution_count": 2,
   "metadata": {},
   "outputs": [
    {
     "name": "stdout",
     "output_type": "stream",
     "text": [
      "Num Features: 2\n",
      "Selected Features: [False False False False False False False False False False False  True\n",
      "  True False False False]\n",
      "Feature Ranking: [15 11 13 10 14  7  3 12  9  5  4  1  1  8  6  2]\n"
     ]
    },
    {
     "data": {
      "text/plain": [
       "['Height',\n",
       " 'Weight',\n",
       " 'Age',\n",
       " 'BMI',\n",
       " 'Balance_MLrange',\n",
       " 'Balance_MLstdev',\n",
       " 'Balance_MLmeanVelocity',\n",
       " 'Balance_APrange',\n",
       " \"Balance_APstdev'\",\n",
       " 'Balance_APmeanVelocity',\n",
       " 'Balance_MeanVelocity',\n",
       " 'GaitVelocity',\n",
       " 'MovementVelocity',\n",
       " 'mad_SegmentData',\n",
       " 'mean_StepLength',\n",
       " 'Velocity']"
      ]
     },
     "execution_count": 2,
     "metadata": {},
     "output_type": "execute_result"
    }
   ],
   "source": [
    "X = pdata.drop(['Conditie', 'SubjectID', 'Alcohol_Class', 'Alcohol'], axis=1)\n",
    "Y = pdata['Alcohol_Class']\n",
    "from pandas import read_csv\n",
    "from sklearn.feature_selection import RFE\n",
    "from sklearn.linear_model import LogisticRegression\n",
    "# feature extraction\n",
    "model = LogisticRegression()\n",
    "rfe = RFE(model, 2)\n",
    "fit = rfe.fit(X, Y)\n",
    "print(\"Num Features: %d\" % fit.n_features_)\n",
    "print(\"Selected Features: %s\" % fit.support_)\n",
    "print(\"Feature Ranking: %s\" % fit.ranking_)\n",
    "list(X)"
   ]
  },
  {
   "cell_type": "code",
   "execution_count": 3,
   "metadata": {},
   "outputs": [
    {
     "data": {
      "text/plain": [
       "<matplotlib.axes._subplots.AxesSubplot at 0x116f22940>"
      ]
     },
     "execution_count": 3,
     "metadata": {},
     "output_type": "execute_result"
    },
    {
     "data": {
      "image/png": "[encoded data removed]",
      "text/plain": [
       "<matplotlib.figure.Figure at 0x10a3753c8>"
      ]
     },
     "metadata": {},
     "output_type": "display_data"
    }
   ],
   "source": [
    "import seaborn as sns\n",
    "corr = X.corr()\n",
    "sns.heatmap(corr, mask=np.zeros_like(corr, dtype=np.bool), cmap=sns.diverging_palette(220, 10, as_cmap=True), square=True)"
   ]
  },
  {
   "cell_type": "code",
   "execution_count": 6,
   "metadata": {},
   "outputs": [],
   "source": [
    "#Splits data into training and validation according to specified ratio\n",
    "def validation_split(data, ratio):\n",
    "    sidlist = data['SubjectID'].unique()\n",
    "    gdata = [data[data['SubjectID']==sid] for sid in sidlist]\n",
    "    np.random.shuffle(gdata)\n",
    "    N = len(gdata)\n",
    "    training = gdata[:int(ratio*N)]\n",
    "    validation = gdata[(int(ratio*N)):]\n",
    "    return training,validation\n",
    "\n",
    "# Converts the arrays in a list to one flattend dataframe\n",
    "def flatten(data, variable_list):\n",
    "    return pd.DataFrame(np.vstack(data), columns=variable_list)\n",
    "\n",
    "def get_split_data(originaldata, variable_list, ratio):\n",
    "    data = originaldata[variable_list]\n",
    "    training,validation = validation_split(data, 0.7)\n",
    "    training = flatten(training, variable_list)\n",
    "    validation = flatten(validation, variable_list)\n",
    "\n",
    "    X_train = training.drop(['Alcohol_Class', 'SubjectID'], axis=1)\n",
    "    y_train = training['Alcohol_Class']\n",
    "    X_train = X_train.astype(float)\n",
    "    y_train = y_train.astype(int)\n",
    "    \n",
    "    X_test = validation.drop(['Alcohol_Class', 'SubjectID'], axis=1)\n",
    "    y_test = validation['Alcohol_Class']\n",
    "    X_test = X_test.astype(float)\n",
    "    y_test = y_test.astype(int)\n",
    "    return X_train, X_test, y_train, y_test\n",
    "\n",
    "collist =  ['SubjectID', 'Alcohol_Class', 'GaitVelocity', 'MovementVelocity']\n",
    "X_train, X_test, y_train, y_test = get_split_data(pdata, collist , 0.7)\n",
    "\n",
    "\n",
    "X_train = np.array(X_train, dtype=float)\n",
    "y_train = np.array(y_train, dtype=int)\n",
    "\n",
    "X_test = np.array(X_test, dtype=float)\n",
    "y_test = np.array(y_test, dtype=int)\n",
    "\n"
   ]
  },
  {
   "cell_type": "code",
   "execution_count": 7,
   "metadata": {},
   "outputs": [
    {
     "name": "stdout",
     "output_type": "stream",
     "text": [
      "Accuracy of our model is equal 57.45 %.\n"
     ]
    }
   ],
   "source": [
    "variable_list = ['SubjectID', 'Alcohol_Class', 'GaitVelocity', 'MovementVelocity', 'Velocity']\n",
    "\n",
    "data = pdata[variable_list]\n",
    "training,validation = validation_split(data, 0.7)\n",
    "training = flatten(training, variable_list)\n",
    "validation = flatten(validation, variable_list)\n",
    "\n",
    "X_train = training.drop(['Alcohol_Class', 'SubjectID'], axis=1)\n",
    "y_train = training['Alcohol_Class']\n",
    "X_train = X_train.astype(float)\n",
    "y_train = y_train.astype(int)\n",
    "\n",
    "X_test = validation.drop(['Alcohol_Class', 'SubjectID'], axis=1)\n",
    "y_test = validation['Alcohol_Class']\n",
    "X_test = X_test.astype(float)\n",
    "y_test = y_test.astype(int)\n",
    "\n",
    "X_train = np.array(X_train, dtype=float)\n",
    "y_train = np.array(y_train, dtype=int)\n",
    "\n",
    "X_test = np.array(X_test, dtype=float)\n",
    "y_test = np.array(y_test, dtype=int)\n",
    "\n",
    "\n",
    "logreg = LogisticRegression(C=1e5, solver='lbfgs', multi_class='multinomial', random_state=100000, max_iter=1000)\n",
    "logreg.fit(X_train, y_train)\n",
    "y_pred = logreg.predict(X_test)\n",
    "\n",
    "accuracy = accuracy_score(y_test, y_pred)*100\n",
    "print('Accuracy of our model is equal ' + str(round(accuracy, 2)) + ' %.')\n"
   ]
  },
  {
   "cell_type": "code",
   "execution_count": 8,
   "metadata": {},
   "outputs": [
    {
     "data": {
      "text/plain": [
       "0.48936170212765956"
      ]
     },
     "execution_count": 8,
     "metadata": {},
     "output_type": "execute_result"
    }
   ],
   "source": [
    "variable_list = ['SubjectID', 'Alcohol_Class', 'GaitVelocity', 'MovementVelocity', 'Velocity']\n",
    "\n",
    "def make_alcohol_decisions(originaldata, variable_list):\n",
    "    data = originaldata[variable_list]\n",
    "    training,validation = validation_split(data, 0.7)\n",
    "    training = flatten(training, variable_list)\n",
    "    validation = flatten(validation, variable_list)\n",
    "\n",
    "    X_train = training.drop(['Alcohol_Class', 'SubjectID'], axis=1)\n",
    "    y_train = training['Alcohol_Class']\n",
    "    X_train = X_train.astype(float)\n",
    "    y_train = y_train.astype(int)\n",
    "    \n",
    "    X_test = validation.drop(['Alcohol_Class', 'SubjectID'], axis=1)\n",
    "    y_test = validation['Alcohol_Class']\n",
    "    X_test = X_test.astype(float)\n",
    "    y_test = y_test.astype(int)\n",
    "    \n",
    "#     scaler = StandardScaler()\n",
    "\n",
    "#     # Fit on training set only.\n",
    "#     scaler.fit(X_train)\n",
    "\n",
    "#     # Apply transform to both the training set and the test set.\n",
    "#     X_train = scaler.transform(X_train)\n",
    "#     X_test = scaler.transform(X_test)\n",
    "    \n",
    "#     lda = LDA(n_components=1)  \n",
    "#     X_train = lda.fit_transform(X_train, y_train)  \n",
    "#     X_test = lda.transform(X_test) \n",
    "    \n",
    "    logreg = LogisticRegression(C=1e5, solver='lbfgs', multi_class='multinomial', random_state=100000, max_iter=1000)\n",
    "    logreg.fit(X_train, y_train)\n",
    "    y_pred = logreg.predict(X_test)\n",
    "    return accuracy_score(y_test, y_pred)\n",
    "\n",
    "\n",
    "make_alcohol_decisions(pdata, variable_list)"
   ]
  },
  {
   "cell_type": "code",
   "execution_count": 10,
   "metadata": {},
   "outputs": [
    {
     "name": "stdout",
     "output_type": "stream",
     "text": [
      "BMI, Age, mad_SegmentData: 0.5448936170212766\n"
     ]
    }
   ],
   "source": [
    "print('BMI, Age, mad_SegmentData:', np.mean([make_alcohol_decisions(pdata, ['SubjectID', 'Alcohol_Class', 'GaitVelocity', 'MovementVelocity', 'Velocity']) for i in range(100)]))\n",
    "#print('BMI, Age, AverageStepLength:', np.mean([make_alcohol_decisions(adata, ['SubjectID', 'Alcohol', 'BMI', 'Age', 'AverageStepLength']) for i in range(100)]))\n",
    "#print('Height, BMI, mad_SegmentData, AverageStepLength:', np.mean([make_alcohol_decisions(adata, ['SubjectID', 'Alcohol', 'Height', 'BMI', 'AverageStepLength', 'mad_SegmentData']) for i in range(100)]))\n",
    "# print('BMI, mad_SegmentData, AverageStepLength:', np.mean([make_alcohol_decisions(adata, ['SubjectID', 'Alcohol', 'BMI', 'AverageStepLength', 'mad_SegmentData']) for i in range(100)]))\n",
    "# print('Age, mad_SegmentData, AverageStepLength:', np.mean([make_alcohol_decisions(adata, ['SubjectID', 'Alcohol', 'Age', 'AverageStepLength', 'mad_SegmentData']) for i in range(100)]))\n",
    "# print('mad_SegmentData, AverageStepLength:', np.mean([make_alcohol_decisions(adata, ['SubjectID', 'Alcohol', 'AverageStepLength', 'mad_SegmentData']) for i in range(100)]))\n",
    "# print('mad_SegmentData, AverageStepLength:', np.mean([make_alcohol_decisions(normdata, ['SubjectID', 'Alcohol', 'AverageStepLength', 'mad_SegmentData']) for i in range(100)]))\n",
    "\n"
   ]
  },
  {
   "cell_type": "code",
   "execution_count": 259,
   "metadata": {},
   "outputs": [
    {
     "data": {
      "image/png": "[encoded data removed]",
      "text/plain": [
       "<matplotlib.figure.Figure at 0x1a1bc3fa58>"
      ]
     },
     "metadata": {},
     "output_type": "display_data"
    }
   ],
   "source": [
    "from sklearn import neighbors, datasets\n",
    "from matplotlib.colors import ListedColormap\n",
    "# Create color maps\n",
    "cmap_light = ListedColormap(['#FFAAAA', '#AAFFAA'])\n",
    "cmap_bold = ListedColormap(['#FF0000', '#00FF00'])\n",
    "\n",
    "h = .02  # step size in the mesh\n",
    "# Plot the decision boundary. For that, we will assign a color to each\n",
    "# point in the mesh [x_min, m_max]x[y_min, y_max].\n",
    "x_min, x_max = X_train[:, 0].min() - 1, X_train[:, 0].max() + 1\n",
    "y_min, y_max = X_train[:, 1].min() - 1, X_train[:, 1].max() + 1\n",
    "xx, yy = np.meshgrid(np.arange(x_min, x_max, h),\n",
    "                     np.arange(y_min, y_max, h))\n",
    "\n",
    "Z = logreg.predict(np.c_[xx.ravel(), yy.ravel()])\n",
    "colors = {0: 'red', 1: 'blue'}\n",
    "# Put the result into a color plot\n",
    "Z = Z.reshape(xx.shape)\n",
    "plt.figure()\n",
    "plt.pcolormesh(xx, yy, Z, cmap=cmap_light)\n",
    "\n",
    "# Plot also the training points\n",
    "# plt.scatter(X_train[:, 0], X_train[:, 1], c=y_train, cmap=cmap_bold)\n",
    "\n",
    "score = logreg.score(X_test, y_test)\n",
    "# plt.scatter(X_test[:, 0], X_test[:, 1], c=y_pred, alpha=0.5, cmap=cmap_bold)\n",
    "\n",
    "for label in np.unique(y_test):\n",
    "    indices = np.where(y_test == label)\n",
    "    plt.scatter(X_test[indices, 0], X_test[indices, 1], c=colors[label], alpha=0.8, \n",
    "                label=' {}'.format(label))\n",
    "\n",
    "colors = ['red', 'blue']\n",
    "\n",
    "labels = ['0', '1']\n",
    "plt.legend(labels)\n",
    "plt.title('Logistic regression')\n",
    "plt.xlabel('Step length')\n",
    "plt.ylabel('Sum distance')\n",
    "plt.savefig('Logistic regression alcohol')\n",
    "plt.show()"
   ]
  },
  {
   "cell_type": "code",
   "execution_count": null,
   "metadata": {},
   "outputs": [],
   "source": []
  },
  {
   "cell_type": "code",
   "execution_count": null,
   "metadata": {},
   "outputs": [],
   "source": []
  }
 ],
 "metadata": {
  "kernelspec": {
   "display_name": "Python 3",
   "language": "python",
   "name": "python3"
  },
  "language_info": {
   "codemirror_mode": {
    "name": "ipython",
    "version": 3
   },
   "file_extension": ".py",
   "mimetype": "text/x-python",
   "name": "python",
   "nbconvert_exporter": "python",
   "pygments_lexer": "ipython3",
   "version": "3.6.4"
  }
 },
 "nbformat": 4,
 "nbformat_minor": 2
}
