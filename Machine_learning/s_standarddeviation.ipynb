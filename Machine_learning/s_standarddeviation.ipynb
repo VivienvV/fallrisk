{
 "cells": [
  {
   "cell_type": "code",
   "execution_count": 1,
   "metadata": {},
   "outputs": [],
   "source": [
    "from scipy.io import loadmat\n",
    "import matplotlib.pyplot as plt\n",
    "\n",
    "matdata = loadmat(\"../Data/SpineMidData_21032018.mat\")\n",
    "spineMidData=matdata['SpineMidData']"
   ]
  },
  {
   "cell_type": "code",
   "execution_count": 3,
   "metadata": {},
   "outputs": [],
   "source": [
    "# # z is walking direction, x is horizontal movement of the spine midpoint\n",
    "# for i in range(51,100):\n",
    "#     walking = spineMidData[i,7]\n",
    "#     x = walking[:,0]\n",
    "#     y = walking[:,1]\n",
    "#     z = walking[:,2]\n",
    "#     plt.plot(x,z)\n",
    "\n",
    "#     glasses = spineMidData[i+839,7]\n",
    "#     xgl = glasses[:,0]\n",
    "#     ygl = glasses[:,1]\n",
    "#     zgl = glasses[:,2]\n",
    "#     plt.plot(xgl,zgl, color='orange')\n",
    "#     plt.xlabel('spine midpoint movement')\n",
    "#     plt.ylabel('walking direction')\n",
    "#     plt.xlim(-0.3, 0.7)\n",
    "#     plt.savefig('2d_projections/projection%d.png' %i,)\n",
    "#     plt.show()\n",
    "    \n",
    "#     '''\n",
    "#     plt.plot(y,z, color=\"purple\")\n",
    "\n",
    "#     glasses = spineMidData[i+839,7]\n",
    "#     xgl = glasses[:,0]\n",
    "#     ygl = glasses[:,1]\n",
    "#     zgl = glasses[:,2]\n",
    "#     plt.plot(ygl, zgl, color='green')\n",
    "#     plt.xlabel('spine midpoint movement')\n",
    "#     plt.ylabel('walking direction')\n",
    "#     plt.xlim(-0.8, 0)\n",
    "#     plt.show()\n",
    "    \n",
    "#     '''"
   ]
  },
  {
   "cell_type": "code",
   "execution_count": null,
   "metadata": {},
   "outputs": [],
   "source": []
  }
 ],
 "metadata": {
  "kernelspec": {
   "display_name": "Python 3",
   "language": "python",
   "name": "python3"
  },
  "language_info": {
   "codemirror_mode": {
    "name": "ipython",
    "version": 3
   },
   "file_extension": ".py",
   "mimetype": "text/x-python",
   "name": "python",
   "nbconvert_exporter": "python",
   "pygments_lexer": "ipython3",
   "version": "3.7.0"
  }
 },
 "nbformat": 4,
 "nbformat_minor": 2
}
