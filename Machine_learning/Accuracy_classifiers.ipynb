{
 "cells": [
  {
   "cell_type": "code",
   "execution_count": 117,
   "metadata": {},
   "outputs": [],
   "source": [
    "import numpy as np\n",
    "import matplotlib.pyplot as plt\n",
    "from sklearn.linear_model import LogisticRegression\n",
    "from sklearn import datasets\n",
    "from sklearn.metrics import accuracy_score\n",
    "from sklearn.metrics import classification_report\n",
    "from sklearn.model_selection import train_test_split\n",
    "from scipy.io import loadmat\n",
    "import itertools\n",
    "from sklearn.metrics import confusion_matrix\n",
    "import pandas as pd\n",
    "from sklearn import metrics\n",
    "from sklearn.naive_bayes import GaussianNB\n",
    "from sklearn import tree\n",
    "from sklearn.neural_network import MLPClassifier\n",
    "np.set_printoptions(threshold=np.nan)"
   ]
  },
  {
   "cell_type": "code",
   "execution_count": 118,
   "metadata": {},
   "outputs": [],
   "source": [
    "data = pd.read_csv(\"../Data/preprocessed_Oppervlakte_STD.csv\") \n",
    "\n",
    "data = data.drop(['Unnamed: 0.1'], axis=1)\n",
    "data = data.drop(['Unnamed: 0'], axis=1)\n",
    "data['Conditie'] = data['Conditie'].map({'norm': 0,  'bril': 1})\n",
    "# data"
   ]
  },
  {
   "cell_type": "code",
   "execution_count": 119,
   "metadata": {},
   "outputs": [],
   "source": [
    "sidlist = data['SubjectID'].unique()\n",
    "\n",
    "#Make an array out of all rows for every unique SubjectID and list them together\n",
    "grouped_data = [data[data['SubjectID']==sid] for sid in sidlist]\n",
    "# grouped_data[0]"
   ]
  },
  {
   "cell_type": "code",
   "execution_count": 120,
   "metadata": {},
   "outputs": [],
   "source": [
    "#Splits data into training and validation according to specified ratio\n",
    "def validation_split(data, ratio):\n",
    "    np.random.shuffle(data)\n",
    "    N = len(data)\n",
    "    training = data[:int(ratio*N)]\n",
    "    validation = data[(int(ratio*N)):]\n",
    "    return training,validation\n",
    "\n",
    "# Converts the arrays in a list to one flattend dataframe\n",
    "def flatten(data):\n",
    "    return pd.DataFrame(np.vstack(data), columns=['TestID', 'Conditie', 'SubjectID','SegmentNr','WalkingDirection',        \n",
    " 'SegmentData', 'Height', 'Weight', 'Age', 'BMI', 'std_SegmentData', 'STD'])\n",
    "\n",
    "training,validation = validation_split(grouped_data, 0.7)\n",
    "training = flatten(training)\n",
    "validation = flatten(validation)\n",
    "# print(len(training))\n",
    "\n"
   ]
  },
  {
   "cell_type": "code",
   "execution_count": 121,
   "metadata": {},
   "outputs": [],
   "source": [
    "training_matrix = training.as_matrix()\n",
    "X_train = np.array(training_matrix[:,[11, 8]], dtype=float)\n",
    "y_train = np.array(training_matrix[:, 1], dtype=int)\n",
    "validation_matrix = validation.as_matrix()\n",
    "X_test = np.array(validation_matrix[:,[11, 8]], dtype=float)\n",
    "y_test = np.array(validation_matrix[:, 1], dtype=int)"
   ]
  },
  {
   "cell_type": "code",
   "execution_count": 122,
   "metadata": {},
   "outputs": [
    {
     "name": "stdout",
     "output_type": "stream",
     "text": [
      "Logistic regression accuracy 0.71875\n"
     ]
    }
   ],
   "source": [
    "#Logistic regression accuracy\n",
    "\n",
    "logreg = LogisticRegression(C=1e5, solver='lbfgs', multi_class='multinomial')\n",
    "\n",
    "logreg.fit(X_train, y_train)\n",
    "\n",
    "y_pred = logreg.predict(X_test)\n",
    "\n",
    "# print(classification_report(y_test, y_pred))\n",
    "print('Logistic regression accuracy', accuracy_score(y_test, y_pred))"
   ]
  },
  {
   "cell_type": "code",
   "execution_count": 123,
   "metadata": {},
   "outputs": [
    {
     "name": "stdout",
     "output_type": "stream",
     "text": [
      "Decision tree accuracy 0.625\n"
     ]
    }
   ],
   "source": [
    "#Decision tree accuracy\n",
    "\n",
    "clf = tree.DecisionTreeClassifier()\n",
    "clf = clf.fit(X_train, y_train)\n",
    "y_pred = clf.predict(X_test)\n",
    "# print(classification_report(y_test, y_pred))\n",
    "print('Decision tree accuracy', accuracy_score(y_test, y_pred))"
   ]
  },
  {
   "cell_type": "code",
   "execution_count": 124,
   "metadata": {},
   "outputs": [
    {
     "name": "stdout",
     "output_type": "stream",
     "text": [
      "Bayes classifier accuracy 0.6875\n",
      "Confusion matrix, without normalization\n",
      "[[103   9]\n",
      " [ 61  51]]\n",
      "Normalized confusion matrix\n",
      "[[0.92 0.08]\n",
      " [0.54 0.46]]\n"
     ]
    },
    {
     "data": {
      "image/png": "[encoded data removed]",
      "text/plain": [
       "<matplotlib.figure.Figure at 0x1a2022f6d8>"
      ]
     },
     "metadata": {},
     "output_type": "display_data"
    },
    {
     "data": {
      "image/png": "[encoded data removed]",
      "text/plain": [
       "<matplotlib.figure.Figure at 0x1a202a2da0>"
      ]
     },
     "metadata": {},
     "output_type": "display_data"
    }
   ],
   "source": [
    "#Bayes classifier\n",
    "\n",
    "gnb = GaussianNB()\n",
    "gnb = gnb.fit(X_train, y_train)\n",
    "y_pred = gnb.predict(X_test)\n",
    "# print(classification_report(y_test, y_pred))\n",
    "print('Bayes classifier accuracy', accuracy_score(y_test, y_pred))\n",
    "\n",
    "\n",
    "# print(metrics.confusion_matrix(y_test, y_pred))\n",
    "\n",
    "# # predictions = clf.predict(inputs)\n",
    "# for input, prediction, label in zip(X_test, y_pred, y_test):\n",
    "#     if prediction != label:\n",
    "#         print(input, 'has been classified as ', prediction, 'and should be ', label) \n",
    "\n",
    "class_names = ['0', '1']\n",
    "\n",
    "\n",
    "def plot_confusion_matrix(cm, classes,\n",
    "                          normalize=False,\n",
    "                          title='Confusion matrix',\n",
    "                          cmap=plt.cm.Blues):\n",
    "    \"\"\"\n",
    "    This function prints and plots the confusion matrix.\n",
    "    Normalization can be applied by setting `normalize=True`.\n",
    "    \"\"\"\n",
    "    if normalize:\n",
    "        cm = cm.astype('float') / cm.sum(axis=1)[:, np.newaxis]\n",
    "        print(\"Normalized confusion matrix\")\n",
    "    else:\n",
    "        print('Confusion matrix, without normalization')\n",
    "\n",
    "    print(cm)\n",
    "\n",
    "    plt.imshow(cm, interpolation='nearest', cmap=cmap)\n",
    "    plt.title(title)\n",
    "    plt.colorbar()\n",
    "    tick_marks = np.arange(len(classes))\n",
    "    plt.xticks(tick_marks, classes, rotation=45)\n",
    "    plt.yticks(tick_marks, classes)\n",
    "\n",
    "    fmt = '.2f' if normalize else 'd'\n",
    "    thresh = cm.max() / 2.\n",
    "    for i, j in itertools.product(range(cm.shape[0]), range(cm.shape[1])):\n",
    "        plt.text(j, i, format(cm[i, j], fmt),\n",
    "                 horizontalalignment=\"center\",\n",
    "                 color=\"white\" if cm[i, j] > thresh else \"black\")\n",
    "\n",
    "    plt.ylabel('True label')\n",
    "    plt.xlabel('Predicted label')\n",
    "    plt.tight_layout()\n",
    "\n",
    "\n",
    "# Compute confusion matrix\n",
    "cnf_matrix = confusion_matrix(y_test, y_pred)\n",
    "np.set_printoptions(precision=2)\n",
    "\n",
    "# Plot non-normalized confusion matrix\n",
    "plt.figure()\n",
    "plot_confusion_matrix(cnf_matrix, classes=class_names,\n",
    "                      title='Confusion matrix, without normalization')\n",
    "\n",
    "# Plot normalized confusion matrix\n",
    "plt.figure()\n",
    "plot_confusion_matrix(cnf_matrix, classes=class_names, normalize=True,\n",
    "                      title='Normalized confusion matrix')\n",
    "\n",
    "plt.show()"
   ]
  },
  {
   "cell_type": "code",
   "execution_count": 125,
   "metadata": {},
   "outputs": [
    {
     "name": "stdout",
     "output_type": "stream",
     "text": [
      "Neural network accuracy 0.5\n"
     ]
    }
   ],
   "source": [
    "#Neural network\n",
    "\n",
    "neu = MLPClassifier()\n",
    "neu = neu.fit(X_train, y_train)  \n",
    "y_pred = neu.predict(X_test)\n",
    "# print(classification_report(y_test, y_pred))\n",
    "print('Neural network accuracy',accuracy_score(y_test, y_pred))"
   ]
  },
  {
   "cell_type": "code",
   "execution_count": null,
   "metadata": {},
   "outputs": [],
   "source": []
  },
  {
   "cell_type": "code",
   "execution_count": null,
   "metadata": {},
   "outputs": [],
   "source": []
  }
 ],
 "metadata": {
  "kernelspec": {
   "display_name": "Python 3",
   "language": "python",
   "name": "python3"
  },
  "language_info": {
   "codemirror_mode": {
    "name": "ipython",
    "version": 3
   },
   "file_extension": ".py",
   "mimetype": "text/x-python",
   "name": "python",
   "nbconvert_exporter": "python",
   "pygments_lexer": "ipython3",
   "version": "3.6.4"
  }
 },
 "nbformat": 4,
 "nbformat_minor": 2
}
