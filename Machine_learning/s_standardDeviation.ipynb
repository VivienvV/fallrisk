{
 "cells": [
  {
   "cell_type": "code",
   "execution_count": 1,
   "metadata": {},
   "outputs": [],
   "source": [
    "import numpy as np\n",
    "import pandas as pd"
   ]
  },
  {
   "cell_type": "code",
   "execution_count": 2,
   "metadata": {},
   "outputs": [],
   "source": [
    "df_data = pd.read_csv(\"../Data/preprocessed_full_data.csv\")\n",
    "df_data = df_data.drop(\"Unnamed: 0\", axis=1)\n",
    "# display(df_data)"
   ]
  },
  {
   "cell_type": "code",
   "execution_count": 66,
   "metadata": {},
   "outputs": [],
   "source": [
    "chars = [\"array([[2]], dtype=uint8\", \"array\", \"\\n\", \"[\", \"]\", \"(\", \")\"]\n",
    "\n",
    "def string_to_ndarray(sd):\n",
    "    for char in chars:\n",
    "        sd = sd.replace(char, \"\")\n",
    "\n",
    "    sd = sd.replace(\"   \", \" \")\n",
    "    sd = sd[:-2]\n",
    "\n",
    "    sd_lst = sd.split(\" \")\n",
    "    sd_lst = [float(i) for i in sd_lst]\n",
    "\n",
    "    sd_arr = np.asarray(sd_lst)\n",
    "    sd_arr = np.split(sd_arr, len(sd_arr)/3)\n",
    "    \n",
    "    return np.asarray(sd_arr)"
   ]
  },
  {
   "cell_type": "code",
   "execution_count": 65,
   "metadata": {},
   "outputs": [
    {
     "data": {
      "text/plain": [
       "array([ 0.04697253,  0.03657828,  0.02703863,  0.01791338,  0.00851704,\n",
       "       -0.00191363, -0.01400938, -0.02809259, -0.04409022, -0.06155288,\n",
       "       -0.07975994, -0.097869  , -0.11506824, -0.13070113, -0.14434152,\n",
       "       -0.15580744, -0.16512084, -0.17243917, -0.177989  , -0.18201708,\n",
       "       -0.18475491, -0.1863863 , -0.18701819, -0.18667101, -0.18530578,\n",
       "       -0.18288851, -0.17947127, -0.17525668, -0.17061442, -0.16603262,\n",
       "       -0.162012  , -0.15893768, -0.1569781 , -0.15605375, -0.15589   ,\n",
       "       -0.15613162, -0.15647116, -0.15674304, -0.15695439, -0.1572511 ,\n",
       "       -0.15783955, -0.1588955 , -0.16049045, -0.16255932, -0.16491977,\n",
       "       -0.16732902, -0.16953911, -0.17131335, -0.17240516, -0.17253974,\n",
       "       -0.17143886, -0.16889233, -0.16484453, -0.15944945, -0.15305464,\n",
       "       -0.14610665, -0.13902165, -0.13209384, -0.12548483, -0.11927321,\n",
       "       -0.11350503, -0.10820183, -0.10332738, -0.09875011, -0.09424174,\n",
       "       -0.08952833, -0.08437415, -0.07865338, -0.0723648 , -0.06557485])"
      ]
     },
     "execution_count": 65,
     "metadata": {},
     "output_type": "execute_result"
    }
   ],
   "source": [
    "sd = df_data[\"SegmentData\"][0]\n",
    "sd_arr = string_to_ndarray(sd)\n",
    "sd_arr[:,0]"
   ]
  },
  {
   "cell_type": "code",
   "execution_count": 68,
   "metadata": {},
   "outputs": [
    {
     "name": "stdout",
     "output_type": "stream",
     "text": [
      "0.06087023706552627\n"
     ]
    }
   ],
   "source": [
    "std = np.std(sd_arr[:,0])\n",
    "print(std)"
   ]
  },
  {
   "cell_type": "code",
   "execution_count": null,
   "metadata": {},
   "outputs": [],
   "source": []
  },
  {
   "cell_type": "code",
   "execution_count": null,
   "metadata": {},
   "outputs": [],
   "source": []
  }
 ],
 "metadata": {
  "kernelspec": {
   "display_name": "Python 3",
   "language": "python",
   "name": "python3"
  },
  "language_info": {
   "codemirror_mode": {
    "name": "ipython",
    "version": 3
   },
   "file_extension": ".py",
   "mimetype": "text/x-python",
   "name": "python",
   "nbconvert_exporter": "python",
   "pygments_lexer": "ipython3",
   "version": "3.7.0"
  }
 },
 "nbformat": 4,
 "nbformat_minor": 2
}
