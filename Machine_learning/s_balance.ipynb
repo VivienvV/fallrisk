{
 "cells": [
  {
   "cell_type": "code",
   "execution_count": 59,
   "metadata": {},
   "outputs": [],
   "source": [
    "import pandas as pd\n",
    "import numpy as np\n",
    "import matplotlib.pyplot as plt"
   ]
  },
  {
   "cell_type": "code",
   "execution_count": 60,
   "metadata": {},
   "outputs": [
    {
     "name": "stdout",
     "output_type": "stream",
     "text": [
      "['Conditie', 'SubjectID', 'Height', 'Weight', 'Age', 'BMI', 'Alcohol', 'Alcohol_Class', 'Balance_MLrange', 'Balance_MLstdev', 'Balance_MLmeanVelocity', 'Balance_APrange', 'Balance_APstdev', 'Balance_APmeanVelocity', 'Balance_MeanVelocity', 'GaitVelocity', 'MovementVelocity', 'std_SegmentData', 'mad_SegmentData', 'mean_StepLength', 'Velocity']\n",
      "(308, 21)\n"
     ]
    }
   ],
   "source": [
    "df_data = pd.read_csv(\"../Data/preprocessed_alcohol_balance_perperson.csv\")\n",
    "# display(df_data)\n",
    "print(list(df_data))\n",
    "print(df_data.shape)"
   ]
  },
  {
   "cell_type": "code",
   "execution_count": 61,
   "metadata": {},
   "outputs": [
    {
     "name": "stdout",
     "output_type": "stream",
     "text": [
      "(154, 21)\n"
     ]
    }
   ],
   "source": [
    "df_data = df_data[df_data.Conditie == \"norm\"]\n",
    "print(df_data.shape)"
   ]
  },
  {
   "cell_type": "code",
   "execution_count": 62,
   "metadata": {},
   "outputs": [
    {
     "data": {
      "text/plain": [
       "<matplotlib.axes._subplots.AxesSubplot at 0x113e5cac8>"
      ]
     },
     "execution_count": 62,
     "metadata": {},
     "output_type": "execute_result"
    },
    {
     "data": {
      "image/png": "[encoded data removed]",
      "text/plain": [
       "<Figure size 432x288 with 1 Axes>"
      ]
     },
     "metadata": {
      "needs_background": "light"
     },
     "output_type": "display_data"
    }
   ],
   "source": [
    "df_data = df_data.sort_values(\"Balance_MeanVelocity\")\n",
    "df_data[\"Balance_MeanVelocity\"].plot.hist(bins=75)"
   ]
  },
  {
   "cell_type": "code",
   "execution_count": 68,
   "metadata": {},
   "outputs": [],
   "source": [
    "# df_data[\"Balance_MeanVelocity_Class\"] = pd.qcut(df_data['Balance_MeanVelocity'], 2, labels=[1, 0])"
   ]
  },
  {
   "cell_type": "code",
   "execution_count": 64,
   "metadata": {},
   "outputs": [],
   "source": [
    "df_data = df_data.sort_values(\"SubjectID\")"
   ]
  },
  {
   "cell_type": "code",
   "execution_count": 69,
   "metadata": {},
   "outputs": [],
   "source": [
    "# display(df_data)\n",
    "# df_data.to_csv(path_or_buf=\"../Data/preprocessed_balance_perperson_nobril_equal.csv\", index=False)"
   ]
  },
  {
   "cell_type": "code",
   "execution_count": 74,
   "metadata": {},
   "outputs": [],
   "source": [
    "df_new = df_data\n",
    "\n",
    "for i, _ in df_new.iterrows(): \n",
    "    if df_new[\"Balance_MeanVelocity\"][i] <= 6: \n",
    "        df_new[\"Balance_MeanVelocity_Class\"][i] = 1\n",
    "    if df_new[\"Balance_MeanVelocity\"][i] > 6: \n",
    "        df_new[\"Balance_MeanVelocity_Class\"][i] = 0"
   ]
  },
  {
   "cell_type": "code",
   "execution_count": 76,
   "metadata": {},
   "outputs": [
    {
     "data": {
      "image/png": "[encoded data removed]",
      "text/plain": [
       "<Figure size 432x288 with 1 Axes>"
      ]
     },
     "metadata": {},
     "output_type": "display_data"
    }
   ],
   "source": [
    "# PIECHARTS\n",
    "headers = [\n",
    " \"Balance_MeanVelocity_Class\"]\n",
    "\n",
    "for header in headers:\n",
    "    perc = pd.DataFrame(df_new[header].value_counts(normalize=True) * 100).sort_index()\n",
    "    perc.plot.pie(subplots=True, autopct='%.2f', legend=False)\n",
    "    plt.show()\n",
    "    \n",
    "# display(df_new)"
   ]
  },
  {
   "cell_type": "code",
   "execution_count": 78,
   "metadata": {},
   "outputs": [],
   "source": [
    "df_new.to_csv(path_or_buf=\"../Data/preprocessed_balance_perperson_nobril_80-20.csv\", index=False)"
   ]
  },
  {
   "cell_type": "code",
   "execution_count": 82,
   "metadata": {},
   "outputs": [],
   "source": [
    "df_newnew = df_data\n",
    "df_newnew[\"Balance_MeanVelocity_Class\"] = pd.qcut(df_data['Balance_MeanVelocity'], 3, labels=[\"good\", \"medium\", \"bad\" ])\n",
    "df_newnew = df_newnew.sort_values(\"SubjectID\")\n",
    "df_newnew.to_csv(path_or_buf=\"../Data/preprocessed_balance_perperson_nobril_three_equal.csv\", index=False)"
   ]
  },
  {
   "cell_type": "code",
   "execution_count": null,
   "metadata": {},
   "outputs": [],
   "source": []
  }
 ],
 "metadata": {
  "kernelspec": {
   "display_name": "Python 3",
   "language": "python",
   "name": "python3"
  },
  "language_info": {
   "codemirror_mode": {
    "name": "ipython",
    "version": 3
   },
   "file_extension": ".py",
   "mimetype": "text/x-python",
   "name": "python",
   "nbconvert_exporter": "python",
   "pygments_lexer": "ipython3",
   "version": "3.7.0"
  }
 },
 "nbformat": 4,
 "nbformat_minor": 2
}
