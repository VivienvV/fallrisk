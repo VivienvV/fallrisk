{
 "cells": [
  {
   "cell_type": "code",
   "execution_count": 11,
   "metadata": {},
   "outputs": [],
   "source": [
    "import pandas as pd  \n",
    "import numpy as np  \n",
    "import matplotlib.pyplot as plt\n",
    "from sklearn.metrics import classification_report, confusion_matrix, precision_recall_fscore_support, accuracy_score  \n",
    "from sklearn.naive_bayes import GaussianNB\n",
    "from sklearn.model_selection import train_test_split\n",
    "from scipy.io import loadmat\n",
    "from sklearn.neighbors import KNeighborsClassifier\n",
    "import itertools\n",
    "from sklearn import metrics\n",
    "from sklearn.preprocessing import StandardScaler\n",
    "from sklearn.decomposition import PCA\n",
    "np.set_printoptions(threshold=np.nan)\n",
    "from matplotlib.colors import ListedColormap\n",
    "from sklearn.metrics import precision_recall_fscore_support\n",
    "\n",
    "data = pd.read_csv(\"../Data/preprocessed_balance_perperson_nobril_80-20.csv\")\n",
    "data['Conditie'] = data['Conditie'].map({'norm': 0})\n",
    "# data"
   ]
  },
  {
   "cell_type": "code",
   "execution_count": 20,
   "metadata": {},
   "outputs": [
    {
     "name": "stdout",
     "output_type": "stream",
     "text": [
      "85.1063829787234\n",
      "              precision    recall  f1-score   support\n",
      "\n",
      "  No balance       0.80      0.40      0.53        10\n",
      "     Balance       0.86      0.97      0.91        37\n",
      "\n",
      "   micro avg       0.85      0.85      0.85        47\n",
      "   macro avg       0.83      0.69      0.72        47\n",
      "weighted avg       0.84      0.85      0.83        47\n",
      "\n",
      "(0.8449848024316108, 0.851063829787234, 0.8309543046952151, None)\n"
     ]
    }
   ],
   "source": [
    "#Code to get X_train, y_train, X_test and y_test for the plots\n",
    "from sklearn.model_selection import train_test_split\n",
    "X = data[['Velocity', 'mean_StepLength', 'Height']]\n",
    "y = data[['Balance_MeanVelocity_Class']]\n",
    "\n",
    "#Split the data in training and validation\n",
    "X_train, X_test, y_train, y_test = train_test_split(X, np.ravel(y), test_size = 0.30, random_state=0, stratify = y)\n",
    "\n",
    "X_train = np.array(X_train, dtype=float)\n",
    "y_train = np.array(y_train, dtype=int)\n",
    "\n",
    "X_test = np.array(X_test, dtype=float)\n",
    "y_test = np.array(y_test, dtype=int)\n",
    "\n",
    "#Standardize X components\n",
    "scaler = StandardScaler()\n",
    "\n",
    "scaler.fit(X_train)\n",
    "\n",
    "X_train = scaler.transform(X_train)\n",
    "X_test = scaler.transform(X_test)\n",
    "\n",
    "#Apply dimensionality reduction\n",
    "pca = PCA(n_components=2)\n",
    "pca.fit(X_train)\n",
    "\n",
    "X_train = pca.transform(X_train)\n",
    "X_test = pca.transform(X_test)\n",
    "\n",
    "#Find optimal k\n",
    "error = []\n",
    "for i in range(1, 40):  \n",
    "    neigh = KNeighborsClassifier(n_neighbors=i)\n",
    "    neigh.fit(X_train, y_train)\n",
    "    pred_i = neigh.predict(X_test)\n",
    "    error.append(np.mean(pred_i != y_test)) \n",
    "j = error.index(min(error)) +1\n",
    "\n",
    "#Fit classifier\n",
    "neigh = KNeighborsClassifier(n_neighbors=j)\n",
    "neigh.fit(X_train, y_train)\n",
    "\n",
    "y_pred = neigh.predict(X_test)\n",
    "\n",
    "print(accuracy_score(y_test, y_pred)*100)\n",
    "\n",
    "target_names = ['No balance', 'Balance']\n",
    "print(classification_report(y_test, y_pred, target_names=target_names))\n",
    "print(precision_recall_fscore_support(y_test, y_pred, average='weighted'))"
   ]
  },
  {
   "cell_type": "code",
   "execution_count": 22,
   "metadata": {},
   "outputs": [
    {
     "name": "stdout",
     "output_type": "stream",
     "text": [
      "Confusion matrix, without normalization\n",
      "[[ 4  6]\n",
      " [ 1 36]]\n",
      "Normalized confusion matrix\n",
      "[[0.4  0.6 ]\n",
      " [0.03 0.97]]\n"
     ]
    },
    {
     "data": {
      "image/png": "[encoded data removed]",
      "text/plain": [
       "<matplotlib.figure.Figure at 0x113685898>"
      ]
     },
     "metadata": {},
     "output_type": "display_data"
    },
    {
     "data": {
      "image/png": "[encoded data removed]",
      "text/plain": [
       "<matplotlib.figure.Figure at 0x1a1ffd8668>"
      ]
     },
     "metadata": {},
     "output_type": "display_data"
    }
   ],
   "source": [
    "#Plot confusion matrix\n",
    "class_names = ['No balance', 'Balance']\n",
    "def plot_confusion_matrix(cm, classes,\n",
    "                          normalize=False,\n",
    "                          title='Confusion matrix',\n",
    "                          cmap=plt.cm.Blues):\n",
    "    \"\"\"\n",
    "    This function prints and plots the confusion matrix.\n",
    "    Normalization can be applied by setting `normalize=True`.\n",
    "    \"\"\"\n",
    "    if normalize:\n",
    "        cm = cm.astype('float') / cm.sum(axis=1)[:, np.newaxis]\n",
    "        print(\"Normalized confusion matrix\")\n",
    "    else:\n",
    "        print('Confusion matrix, without normalization')\n",
    "\n",
    "    print(cm)\n",
    "\n",
    "    plt.imshow(cm, interpolation='nearest', cmap=cmap)\n",
    "    plt.title(title)\n",
    "    plt.colorbar()\n",
    "    tick_marks = np.arange(len(classes))\n",
    "    plt.xticks(tick_marks, classes, rotation=45)\n",
    "    plt.yticks(tick_marks, classes)\n",
    "\n",
    "    fmt = '.2f' if normalize else 'd'\n",
    "    thresh = cm.max() / 2.\n",
    "    for i, j in itertools.product(range(cm.shape[0]), range(cm.shape[1])):\n",
    "        plt.text(j, i, format(cm[i, j], fmt),\n",
    "                 horizontalalignment=\"center\",\n",
    "                 color=\"white\" if cm[i, j] > thresh else \"black\")\n",
    "\n",
    "    plt.ylabel('True label')\n",
    "    plt.xlabel('Predicted label')\n",
    "    plt.tight_layout()\n",
    "\n",
    "\n",
    "#Compute confusion matrix\n",
    "cnf_matrix = confusion_matrix(y_test, y_pred)\n",
    "np.set_printoptions(precision=2)\n",
    "\n",
    "#Plot non-normalized confusion matrix\n",
    "plt.figure()\n",
    "plot_confusion_matrix(cnf_matrix, classes=class_names,\n",
    "                      title='Confusion matrix, without normalization')\n",
    "\n",
    "#Plot normalized confusion matrix\n",
    "plt.figure()\n",
    "plot_confusion_matrix(cnf_matrix, classes=class_names, normalize=True,\n",
    "                      title='Normalized confusion matrix')\n",
    "\n",
    "plt.show()"
   ]
  },
  {
   "cell_type": "code",
   "execution_count": 23,
   "metadata": {},
   "outputs": [
    {
     "data": {
      "image/png": "[encoded data removed]",
      "text/plain": [
       "<matplotlib.figure.Figure at 0x1a1ff5f630>"
      ]
     },
     "metadata": {},
     "output_type": "display_data"
    }
   ],
   "source": [
    "#Plot graph\n",
    "cmap_background = ListedColormap(['skyblue','plum'])\n",
    "#Plot the decision boundary\n",
    "h = .02\n",
    "x_min, x_max = X_train[:, 0].min() - 1, X_train[:, 0].max() + 1\n",
    "y_min, y_max = X_train[:, 1].min() - 1, X_train[:, 1].max() + 1\n",
    "xx, yy = np.meshgrid(np.arange(x_min, x_max, h),\n",
    "                     np.arange(y_min, y_max, h))\n",
    "\n",
    "Z = neigh.predict(np.c_[xx.ravel(), yy.ravel()])\n",
    "Z = Z.reshape(xx.shape)\n",
    "plt.figure()\n",
    "plt.pcolormesh(xx, yy, Z, cmap=cmap_background)\n",
    "\n",
    "#Plot the test points\n",
    "colors = ['blue', 'darkviolet', 'red']\n",
    "for label in np.unique(y_train):\n",
    "    indices = np.where(y_train == label)\n",
    "    plt.scatter(X_train[indices, 0], X_train[indices, 1], c=colors[label], alpha=0.8, \n",
    "                label=' {}'.format(label))\n",
    "\n",
    "#Plot the graph\n",
    "labels = ['No balance', 'Balance']\n",
    "plt.legend(labels)\n",
    "plt.title('K-NN balance classification')\n",
    "plt.savefig('K-NN_balance_classification')\n",
    "plt.show()"
   ]
  },
  {
   "cell_type": "code",
   "execution_count": 24,
   "metadata": {},
   "outputs": [
    {
     "data": {
      "text/plain": [
       "78.72340425531915"
      ]
     },
     "execution_count": 24,
     "metadata": {},
     "output_type": "execute_result"
    }
   ],
   "source": [
    "#Code that loops through the data 100 times and calculates the accuracy for every loop and returns the mean\n",
    "def make_decisions(originaldata, variable_list):\n",
    "    data = originaldata[variable_list]\n",
    "    X = data.drop(['Balance_MeanVelocity_Class', 'SubjectID'], axis=1)\n",
    "    y = data[['Balance_MeanVelocity_Class']]\n",
    "\n",
    "    #Stratify data\n",
    "    X_train, X_test, y_train, y_test = train_test_split(X, np.ravel(y), stratify = y, test_size = 0.30)\n",
    "    \n",
    "    X_train = np.array(X_train, dtype=float)\n",
    "    y_train = np.array(y_train, dtype=int)\n",
    "\n",
    "    X_test = np.array(X_test, dtype=float)\n",
    "    y_test = np.array(y_test, dtype=int)\n",
    "\n",
    "    #Standardize data\n",
    "    scaler = StandardScaler()\n",
    "\n",
    "    scaler.fit(X_train)\n",
    "\n",
    "    X_train = scaler.transform(X_train)\n",
    "    X_test = scaler.transform(X_test)\n",
    "\n",
    "    #Apply dimensionality reduction\n",
    "    pca = PCA(n_components=2)\n",
    "    pca.fit(X_train)\n",
    "\n",
    "    X_train = pca.transform(X_train)\n",
    "    X_test = pca.transform(X_test)\n",
    "\n",
    "\n",
    "    #Find optimal k\n",
    "    error = []\n",
    "    for i in range(1, 40):  \n",
    "        neigh = KNeighborsClassifier(n_neighbors=i)\n",
    "        neigh.fit(X_train, y_train)\n",
    "        pred_i = neigh.predict(X_test)\n",
    "        error.append(np.mean(pred_i != y_test)) \n",
    "    j = error.index(min(error)) +1\n",
    "\n",
    "    #Fit classifier\n",
    "    neigh = KNeighborsClassifier(n_neighbors=j)\n",
    "    neigh.fit(X_train, y_train)\n",
    "\n",
    "    y_pred = neigh.predict(X_test)\n",
    "\n",
    "    return accuracy_score(y_test, y_pred)*100\n",
    "\n",
    "variable_list = ['SubjectID', 'Balance_MeanVelocity_Class', 'Velocity', 'mean_StepLength']\n",
    "make_decisions(data, variable_list)"
   ]
  },
  {
   "cell_type": "code",
   "execution_count": 25,
   "metadata": {},
   "outputs": [
    {
     "name": "stdout",
     "output_type": "stream",
     "text": [
      "mad_SegmentData, mean_StepLength: 79.51 %.\n",
      "mean_StepLength, std_SegmentData: 79.32 %.\n",
      "Velocity, mean_StepLength, mad_SegmentData: 80.17 %.\n",
      "std_SegmentData, GaitVelocity, MovementVelocity, mean_StepLength: 79.09 %.\n",
      "Velocity, GaitVelocity, MovementVelocity, mean_StepLength, std_SegmentData: 79.15 %.\n",
      "Velocity, mean_StepLength, Height: 80.53 %.\n",
      "Velocity, mean_StepLength, Age: 80.09 %.\n",
      "mean_StepLength, Height: 79.83 %.\n",
      "mean_StepLength, Age: 79.96 %.\n",
      "Velocity, Height: 78.98 %.\n",
      "std_SegmentData, Height: 79.34 %.\n",
      "mad_SegmentData, Age: 78.91 %.\n",
      "std_SegmentData, Velocity, mean_StepLength: 79.28 %.\n"
     ]
    }
   ],
   "source": [
    "#Code that prints the accuracy of varies variable combinations\n",
    "print('mad_SegmentData, mean_StepLength:', round(np.mean([make_decisions(data, ['SubjectID', 'Balance_MeanVelocity_Class','mean_StepLength', 'mad_SegmentData']) for i in range(100)]), 2),'%.')\n",
    "print('mean_StepLength, std_SegmentData:', round(np.mean([make_decisions(data, ['SubjectID', 'Balance_MeanVelocity_Class', 'mean_StepLength', 'std_SegmentData']) for i in range(100)]), 2),'%.')\n",
    "print('Velocity, mean_StepLength, mad_SegmentData:', round(np.mean([make_decisions(data, ['SubjectID', 'Balance_MeanVelocity_Class', 'mean_StepLength', 'Velocity', 'mad_SegmentData']) for i in range(100)]), 2),'%.')\n",
    "print('std_SegmentData, GaitVelocity, MovementVelocity, mean_StepLength:', round(np.mean([make_decisions(data, ['SubjectID', 'Balance_MeanVelocity_Class', 'GaitVelocity', 'MovementVelocity', 'mean_StepLength', 'std_SegmentData']) for i in range(100)]), 2),'%.')\n",
    "print('Velocity, GaitVelocity, MovementVelocity, mean_StepLength, std_SegmentData:', round(np.mean([make_decisions(data, ['SubjectID', 'Balance_MeanVelocity_Class', 'GaitVelocity', 'MovementVelocity', 'mean_StepLength', 'Velocity', 'std_SegmentData']) for i in range(100)]), 2),'%.')\n",
    "print('Velocity, mean_StepLength, Height:', round(np.mean([make_decisions(data, ['SubjectID', 'Balance_MeanVelocity_Class', 'mean_StepLength', 'Velocity', 'Height']) for i in range(100)]), 2),'%.')\n",
    "print('Velocity, mean_StepLength, Age:', round(np.mean([make_decisions(data, ['SubjectID', 'Balance_MeanVelocity_Class', 'mean_StepLength', 'Velocity', 'Age']) for i in range(100)]), 2),'%.')\n",
    "print('mean_StepLength, Height:', round(np.mean([make_decisions(data, ['SubjectID', 'Balance_MeanVelocity_Class', 'mean_StepLength', 'Height']) for i in range(100)]), 2),'%.')\n",
    "print('mean_StepLength, Age:', round(np.mean([make_decisions(data, ['SubjectID', 'Balance_MeanVelocity_Class', 'mean_StepLength', 'Age']) for i in range(100)]), 2),'%.')\n",
    "print('Velocity, Height:', round(np.mean([make_decisions(data, ['SubjectID', 'Balance_MeanVelocity_Class', 'Velocity', 'Height']) for i in range(100)]), 2),'%.')\n",
    "print('std_SegmentData, Height:', round(np.mean([make_decisions(data, ['SubjectID', 'Balance_MeanVelocity_Class', 'mad_SegmentData', 'Height']) for i in range(100)]), 2),'%.')\n",
    "print('mad_SegmentData, Age:', round(np.mean([make_decisions(data, ['SubjectID', 'Balance_MeanVelocity_Class', 'mad_SegmentData', 'Age']) for i in range(100)]), 2),'%.')\n",
    "print('std_SegmentData, Velocity, mean_StepLength:', round(np.mean([make_decisions(data, ['SubjectID', 'Balance_MeanVelocity_Class', 'Velocity', 'mean_StepLength', 'std_SegmentData']) for i in range(100)]), 2),'%.')"
   ]
  },
  {
   "cell_type": "code",
   "execution_count": null,
   "metadata": {},
   "outputs": [],
   "source": []
  }
 ],
 "metadata": {
  "kernelspec": {
   "display_name": "Python 3",
   "language": "python",
   "name": "python3"
  },
  "language_info": {
   "codemirror_mode": {
    "name": "ipython",
    "version": 3
   },
   "file_extension": ".py",
   "mimetype": "text/x-python",
   "name": "python",
   "nbconvert_exporter": "python",
   "pygments_lexer": "ipython3",
   "version": "3.6.4"
  }
 },
 "nbformat": 4,
 "nbformat_minor": 2
}
