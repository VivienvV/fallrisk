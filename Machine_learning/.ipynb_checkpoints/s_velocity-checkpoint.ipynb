{
 "cells": [
  {
   "cell_type": "code",
   "execution_count": 1,
   "metadata": {},
   "outputs": [],
   "source": [
    "import numpy as np\n",
    "import pandas as pd"
   ]
  },
  {
   "cell_type": "code",
   "execution_count": 6,
   "metadata": {},
   "outputs": [],
   "source": [
    "chars = [\"array([[2]], dtype=uint8\", \"array\", \"\\n\", \"[\", \"]\", \"(\", \")\"]\n",
    "\n",
    "def string_to_ndarray(sd):\n",
    "    for char in chars:\n",
    "        sd = sd.replace(char, \"\")\n",
    "\n",
    "    sd = sd.replace(\"   \", \" \")\n",
    "    sd = sd[:-2]\n",
    "\n",
    "    sd_lst = sd.split(\" \")\n",
    "    sd_lst = [float(i) for i in sd_lst]\n",
    "\n",
    "    sd_arr = np.asarray(sd_lst)\n",
    "    sd_arr = np.split(sd_arr, len(sd_arr)/3)\n",
    "    \n",
    "    return np.asarray(sd_arr)"
   ]
  },
  {
   "cell_type": "code",
   "execution_count": 28,
   "metadata": {},
   "outputs": [],
   "source": [
    "df_data = pd.read_csv(\"../Data/preprocessed_conditiondata_vars.csv\")\n",
    "# display(df_data)"
   ]
  },
  {
   "cell_type": "code",
   "execution_count": 25,
   "metadata": {},
   "outputs": [],
   "source": [
    "def calc_velocity(sd_arr, fps=30):\n",
    "    return sd_arr.shape[0]/fps"
   ]
  },
  {
   "cell_type": "code",
   "execution_count": 31,
   "metadata": {},
   "outputs": [],
   "source": [
    "velocities = []\n",
    "for i, _ in df_data.iterrows():\n",
    "    sd = df_data[\"SegmentData\"][i]\n",
    "    sd_arr = string_to_ndarray(sd)\n",
    "    vel = calc_velocity(sd_arr)\n",
    "    velocities.append(vel)\n",
    "    \n",
    "col = pd.Series(velocities)\n",
    "df_data[\"Velocity\"] = col.values"
   ]
  },
  {
   "cell_type": "code",
   "execution_count": 33,
   "metadata": {},
   "outputs": [],
   "source": [
    "# display(df_data)\n",
    "df_data.to_csv(path_or_buf=\"../Data/preprocessed_conditiondata_vars.csv\", index=False)"
   ]
  },
  {
   "cell_type": "code",
   "execution_count": null,
   "metadata": {},
   "outputs": [],
   "source": []
  }
 ],
 "metadata": {
  "kernelspec": {
   "display_name": "Python 3",
   "language": "python",
   "name": "python3"
  },
  "language_info": {
   "codemirror_mode": {
    "name": "ipython",
    "version": 3
   },
   "file_extension": ".py",
   "mimetype": "text/x-python",
   "name": "python",
   "nbconvert_exporter": "python",
   "pygments_lexer": "ipython3",
   "version": "3.7.0"
  }
 },
 "nbformat": 4,
 "nbformat_minor": 2
}
