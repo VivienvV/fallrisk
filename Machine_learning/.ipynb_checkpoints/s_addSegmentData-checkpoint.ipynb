{
 "cells": [
  {
   "cell_type": "code",
   "execution_count": 136,
   "metadata": {},
   "outputs": [],
   "source": [
    "from scipy.io import loadmat\n",
    "import matplotlib.pyplot as plt\n",
    "import numpy as np\n",
    "import pandas as pd\n",
    "\n",
    "matdata = loadmat(\"../Data/SpineMidData_21032018.mat\")\n",
    "spineMidData=matdata[\"SpineMidData\"]"
   ]
  },
  {
   "cell_type": "code",
   "execution_count": 137,
   "metadata": {},
   "outputs": [],
   "source": [
    "# Get the segmentData from matlab file\n",
    "data = spineMidData[:,7]\n",
    "df_sd = pd.DataFrame(data)\n",
    "df_sd = df_sd.drop([0], axis=0)\n",
    "df_sd = df_sd.reset_index()\n",
    "df_sd = df_sd.drop([\"index\"], axis=1)\n",
    "df_sd = df_sd.rename(index=str, columns={0: \"segmentData\"})\n",
    "# display(df_sd)\n",
    "# df.to_csv(\"../Data/segmentData.csv\")"
   ]
  },
  {
   "cell_type": "code",
   "execution_count": 138,
   "metadata": {},
   "outputs": [],
   "source": [
    "# Get the spineMidData \n",
    "df_csv = pd.read_csv(\"../Data/SpineMidData_withStringCols.csv\")\n",
    "df_csv = df_csv.drop([\"Unnamed: 0\"], axis=1)\n",
    "# display(df_csv)"
   ]
  },
  {
   "cell_type": "code",
   "execution_count": 139,
   "metadata": {},
   "outputs": [
    {
     "name": "stdout",
     "output_type": "stream",
     "text": [
      "Check if shapes are equal: sd is (1662, 1) csv is (1662, 22) .\n"
     ]
    }
   ],
   "source": [
    "print(\"Check if shapes are equal: sd is\", df.shape, \"csv is\", df_0.shape, \".\")"
   ]
  },
  {
   "cell_type": "code",
   "execution_count": 141,
   "metadata": {},
   "outputs": [],
   "source": [
    "# Combine the dataframes\n",
    "df_combined = df_csv.assign(SegmentData=df_sd.values)\n",
    "# display(df_combined)\n",
    "# df_combined.to_csv(\"../Data/full_data.csv\")"
   ]
  },
  {
   "cell_type": "code",
   "execution_count": null,
   "metadata": {},
   "outputs": [],
   "source": []
  }
 ],
 "metadata": {
  "kernelspec": {
   "display_name": "Python 3",
   "language": "python",
   "name": "python3"
  },
  "language_info": {
   "codemirror_mode": {
    "name": "ipython",
    "version": 3
   },
   "file_extension": ".py",
   "mimetype": "text/x-python",
   "name": "python",
   "nbconvert_exporter": "python",
   "pygments_lexer": "ipython3",
   "version": "3.7.0"
  }
 },
 "nbformat": 4,
 "nbformat_minor": 2
}
