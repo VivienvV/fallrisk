{
 "cells": [
  {
   "cell_type": "code",
   "execution_count": 6,
   "metadata": {},
   "outputs": [],
   "source": [
    "import pandas as pd  \n",
    "import numpy as np  \n",
    "import matplotlib.pyplot as plt\n",
    "from sklearn.metrics import classification_report, confusion_matrix, precision_recall_fscore_support, accuracy_score  \n",
    "from sklearn.linear_model import LogisticRegression\n",
    "from scipy.io import loadmat\n",
    "import itertools\n",
    "from sklearn import metrics\n",
    "from sklearn.linear_model import SGDClassifier\n",
    "from sklearn.preprocessing import StandardScaler\n",
    "from sklearn.decomposition import PCA\n",
    "np.set_printoptions(threshold=np.nan)\n",
    "from matplotlib.colors import ListedColormap\n",
    "\n",
    "pdata = pd.read_csv(\"../Data/preprocessed_final.csv\")\n",
    "pdata['Conditie'] = pdata['Conditie'].map({'norm': 0,  'bril': 1})"
   ]
  },
  {
   "cell_type": "code",
   "execution_count": 2,
   "metadata": {},
   "outputs": [],
   "source": [
    "#Splits data into training and validation according to specified ratio\n",
    "def validation_split(data, ratio):\n",
    "    sidlist = data['SubjectID'].unique()\n",
    "    gdata = [data[data['SubjectID']==sid] for sid in sidlist]\n",
    "    np.random.shuffle(gdata)\n",
    "    N = len(gdata)\n",
    "    training = gdata[:int(ratio*N)]\n",
    "    validation = gdata[(int(ratio*N)):]\n",
    "    return training,validation\n",
    "\n",
    "# Converts the arrays in a list to one flattend dataframe\n",
    "def flatten(data, variable_list):\n",
    "    return pd.DataFrame(np.vstack(data), columns=variable_list)\n",
    "\n",
    "#Splits the data to create X_train, y_train, X_test and y_test for the plots\n",
    "def get_split_data(originaldata, variable_list, ratio):\n",
    "    data = originaldata[variable_list]\n",
    "    training,validation = validation_split(data, 0.7)\n",
    "    training = flatten(training, variable_list)\n",
    "    validation = flatten(validation, variable_list)\n",
    "\n",
    "    X_train = training.drop(['Conditie', 'SubjectID'], axis=1)\n",
    "    y_train = training['Conditie']\n",
    "    X_train = X_train.astype(float)\n",
    "    y_train = y_train.astype(int)\n",
    "    \n",
    "    X_test = validation.drop(['Conditie', 'SubjectID'], axis=1)\n",
    "    y_test = validation['Conditie']\n",
    "    X_test = X_test.astype(float)\n",
    "    y_test = y_test.astype(int)\n",
    "    return X_train, X_test, y_train, y_test\n",
    "\n",
    "collist =  ['SubjectID', 'Conditie', 'mean_StepLength', 'GaitTime', 'mad_SegmentData']\n",
    "X_train, X_test, y_train, y_test = get_split_data(pdata, collist , 0.7)\n",
    "\n",
    "\n",
    "X_train = np.array(X_train, dtype=float)\n",
    "y_train = np.array(y_train, dtype=int)\n",
    "\n",
    "X_test = np.array(X_test, dtype=float)\n",
    "y_test = np.array(y_test, dtype=int)\n"
   ]
  },
  {
   "cell_type": "code",
   "execution_count": 4,
   "metadata": {},
   "outputs": [
    {
     "name": "stdout",
     "output_type": "stream",
     "text": [
      "0.9042553191489362\n"
     ]
    }
   ],
   "source": [
    "#Standardize X components\n",
    "scaler = StandardScaler()\n",
    "\n",
    "scaler.fit(X_train)\n",
    "\n",
    "X_train = scaler.transform(X_train)\n",
    "X_test = scaler.transform(X_test)\n",
    "\n",
    "#Apply dimensionality reduction\n",
    "pca = PCA(n_components=2)\n",
    "pca.fit(X_train)\n",
    "\n",
    "X_train = pca.transform(X_train)\n",
    "X_test = pca.transform(X_test)\n",
    "\n",
    "#Fit classifier\n",
    "logreg = LogisticRegression(solver = 'lbfgs')\n",
    "logreg.fit(X_train, y_train)\n",
    "\n",
    "y_pred = logreg.predict(X_test)\n",
    "\n",
    "print(accuracy_score(y_test, y_pred))"
   ]
  },
  {
   "cell_type": "code",
   "execution_count": 5,
   "metadata": {},
   "outputs": [
    {
     "name": "stdout",
     "output_type": "stream",
     "text": [
      "Confusion matrix, without normalization\n",
      "[[42  5]\n",
      " [ 4 43]]\n",
      "Normalized confusion matrix\n",
      "[[0.89 0.11]\n",
      " [0.09 0.91]]\n"
     ]
    },
    {
     "data": {
      "image/png": "[encoded data removed]",
      "text/plain": [
       "<matplotlib.figure.Figure at 0x10e9d8c50>"
      ]
     },
     "metadata": {},
     "output_type": "display_data"
    },
    {
     "data": {
      "image/png": "[encoded data removed]",
      "text/plain": [
       "<matplotlib.figure.Figure at 0x10e9dd278>"
      ]
     },
     "metadata": {},
     "output_type": "display_data"
    }
   ],
   "source": [
    "#Plot confusion matrix\n",
    "class_names = ['No glasses', 'Glasses']\n",
    "def plot_confusion_matrix(cm, classes,\n",
    "                          normalize=False,\n",
    "                          title='Confusion matrix',\n",
    "                          cmap=plt.cm.Blues):\n",
    "    \"\"\"\n",
    "    This function prints and plots the confusion matrix.\n",
    "    Normalization can be applied by setting `normalize=True`.\n",
    "    \"\"\"\n",
    "    if normalize:\n",
    "        cm = cm.astype('float') / cm.sum(axis=1)[:, np.newaxis]\n",
    "        print(\"Normalized confusion matrix\")\n",
    "    else:\n",
    "        print('Confusion matrix, without normalization')\n",
    "\n",
    "    print(cm)\n",
    "\n",
    "    plt.imshow(cm, interpolation='nearest', cmap=cmap)\n",
    "    plt.title(title)\n",
    "    plt.colorbar()\n",
    "    tick_marks = np.arange(len(classes))\n",
    "    plt.xticks(tick_marks, classes, rotation=45)\n",
    "    plt.yticks(tick_marks, classes)\n",
    "\n",
    "    fmt = '.2f' if normalize else 'd'\n",
    "    thresh = cm.max() / 2.\n",
    "    for i, j in itertools.product(range(cm.shape[0]), range(cm.shape[1])):\n",
    "        plt.text(j, i, format(cm[i, j], fmt),\n",
    "                 horizontalalignment=\"center\",\n",
    "                 color=\"white\" if cm[i, j] > thresh else \"black\")\n",
    "\n",
    "    plt.ylabel('True label')\n",
    "    plt.xlabel('Predicted label')\n",
    "    plt.tight_layout()\n",
    "\n",
    "\n",
    "# Compute confusion matrix\n",
    "cnf_matrix = confusion_matrix(y_test, y_pred)\n",
    "np.set_printoptions(precision=2)\n",
    "\n",
    "# Plot non-normalized confusion matrix\n",
    "plt.figure()\n",
    "plot_confusion_matrix(cnf_matrix, classes=class_names,\n",
    "                      title='Confusion matrix, without normalization')\n",
    "\n",
    "# Plot normalized confusion matrix\n",
    "plt.figure()\n",
    "plot_confusion_matrix(cnf_matrix, classes=class_names, normalize=True,\n",
    "                      title='Normalized confusion matrix')\n",
    "\n",
    "plt.show()"
   ]
  },
  {
   "cell_type": "code",
   "execution_count": 7,
   "metadata": {},
   "outputs": [
    {
     "data": {
      "image/png": "[encoded data removed]",
      "text/plain": [
       "<matplotlib.figure.Figure at 0x1a16526e10>"
      ]
     },
     "metadata": {},
     "output_type": "display_data"
    }
   ],
   "source": [
    "#Plot graph\n",
    "cmap_background = ListedColormap(['skyblue', 'plum'])\n",
    "#Plot the decision boundary\n",
    "h = .02\n",
    "x_min, x_max = X_train[:, 0].min() - 1, X_train[:, 0].max() + 1\n",
    "y_min, y_max = X_train[:, 1].min() - 1, X_train[:, 1].max() + 1\n",
    "xx, yy = np.meshgrid(np.arange(x_min, x_max, h),\n",
    "                     np.arange(y_min, y_max, h))\n",
    "\n",
    "Z = logreg.predict(np.c_[xx.ravel(), yy.ravel()])\n",
    "Z = Z.reshape(xx.shape)\n",
    "plt.figure()\n",
    "plt.pcolormesh(xx, yy, Z, cmap=cmap_background)\n",
    "\n",
    "#Plot the test points\n",
    "colors = ['blue', 'darkviolet']\n",
    "for label in np.unique(y_test):\n",
    "    indices = np.where(y_test == label)\n",
    "    plt.scatter(X_test[indices, 0], X_test[indices, 1], c=colors[label], alpha=0.8, \n",
    "                label=' {}'.format(label))\n",
    "\n",
    "#Plot the graph    \n",
    "labels = ['No glasses', 'Glasses']\n",
    "plt.legend(labels)\n",
    "plt.title('Logistic regression')\n",
    "# plt.savefig('Logistic regression')\n",
    "plt.show()"
   ]
  },
  {
   "cell_type": "code",
   "execution_count": 8,
   "metadata": {},
   "outputs": [
    {
     "data": {
      "text/plain": [
       "89.36170212765957"
      ]
     },
     "execution_count": 8,
     "metadata": {},
     "output_type": "execute_result"
    }
   ],
   "source": [
    "#Code that loops through the data 100 times and calculates the accuracy for every loop and returns the mean\n",
    "def make_decisions(originaldata, variable_list):\n",
    "    data = originaldata[variable_list]\n",
    "    training,validation = validation_split(data, 0.7)\n",
    "    training = flatten(training, variable_list)\n",
    "    validation = flatten(validation, variable_list)\n",
    "\n",
    "    X_train = training.drop(['Conditie', 'SubjectID'], axis=1)\n",
    "    y_train = training['Conditie']\n",
    "    X_train = X_train.astype(float)\n",
    "    y_train = y_train.astype(int)\n",
    "    \n",
    "    X_test = validation.drop(['Conditie', 'SubjectID'], axis=1)\n",
    "    y_test = validation['Conditie']\n",
    "    X_test = X_test.astype(float)\n",
    "    y_test = y_test.astype(int)\n",
    "    \n",
    "    #Standardize the x components\n",
    "    scaler = StandardScaler()\n",
    "\n",
    "    scaler.fit(X_train)\n",
    "\n",
    "    X_train = scaler.transform(X_train)\n",
    "    X_test = scaler.transform(X_test)\n",
    "\n",
    "    #Apply dimensionality reduction\n",
    "    pca = PCA(n_components=2)\n",
    "    pca.fit(X_train)\n",
    "\n",
    "    X_train = pca.transform(X_train)\n",
    "    X_test = pca.transform(X_test)\n",
    "\n",
    "    #Fit the classifier\n",
    "    logreg = LogisticRegression(solver = 'lbfgs')\n",
    "    logreg.fit(X_train, y_train)\n",
    "\n",
    "    y_pred = logreg.predict(X_test)\n",
    "\n",
    "    return accuracy_score(y_test, y_pred)*100\n",
    "\n",
    "\n",
    "\n",
    "make_decisions(pdata, collist)"
   ]
  },
  {
   "cell_type": "code",
   "execution_count": 9,
   "metadata": {},
   "outputs": [
    {
     "name": "stdout",
     "output_type": "stream",
     "text": [
      "mad_SegmentData, mean_StepLength: 85.2 %.\n",
      "mean_StepLength, std_SegmentData: 85.13 %.\n",
      "GaitTime, mean_StepLength, mad_SegmentData: 86.66 %.\n",
      "std_SegmentData, GaitVelocity, MovementVelocity, mean_StepLength: 86.16 %.\n",
      "GaitTime, GaitVelocity, MovementVelocity, mean_StepLength, std_SegmentData: 85.2 %.\n",
      "GaitTime, mean_StepLength, Height: 86.12 %.\n",
      "GaitTime, mean_StepLength, Age: 84.69 %.\n",
      "mean_StepLength, Height: 86.65 %.\n",
      "mean_StepLength, Age: 84.14 %.\n",
      "GaitTime, Height: 84.48 %.\n",
      "std_SegmentData, Height: 72.2 %.\n",
      "mad_SegmentData, Age: 71.24 %.\n"
     ]
    }
   ],
   "source": [
    "#Code that prints the accuracy of varies variable combinations\n",
    "print('mad_SegmentData, mean_StepLength:', round(np.mean([make_decisions(pdata, ['SubjectID', 'Conditie','mean_StepLength', 'mad_SegmentData']) for i in range(100)]), 2),'%.')\n",
    "print('mean_StepLength, std_SegmentData:', round(np.mean([make_decisions(pdata, ['SubjectID', 'Conditie', 'mean_StepLength', 'std_SegmentData']) for i in range(100)]), 2),'%.')\n",
    "print('GaitTime, mean_StepLength, mad_SegmentData:', round(np.mean([make_decisions(pdata, ['SubjectID', 'Conditie', 'mean_StepLength', 'GaitTime', 'mad_SegmentData']) for i in range(100)]), 2),'%.')\n",
    "print('std_SegmentData, GaitTime, mean_StepLength:', round(np.mean([make_decisions(pdata, ['SubjectID', 'Conditie', 'GaitTime', 'mean_StepLength', 'std_SegmentData']) for i in range(100)]), 2),'%.')\n",
    "print('GaitTime, mean_StepLength, Height:', round(np.mean([make_decisions(pdata, ['SubjectID', 'Conditie', 'mean_StepLength', 'GaitTime', 'Height']) for i in range(100)]), 2),'%.')\n",
    "print('GaitTime, mean_StepLength, Age:', round(np.mean([make_decisions(pdata, ['SubjectID', 'Conditie', 'mean_StepLength', 'GaitTime', 'Age']) for i in range(100)]), 2),'%.')\n",
    "print('mean_StepLength, Height:', round(np.mean([make_decisions(pdata, ['SubjectID', 'Conditie', 'mean_StepLength', 'Height']) for i in range(100)]), 2),'%.')\n",
    "print('mean_StepLength, Age:', round(np.mean([make_decisions(pdata, ['SubjectID', 'Conditie', 'mean_StepLength', 'Age']) for i in range(100)]), 2),'%.')\n",
    "print('GaitTime, Height:', round(np.mean([make_decisions(pdata, ['SubjectID', 'Conditie', 'GaitTime', 'Height']) for i in range(100)]), 2),'%.')\n",
    "print('std_SegmentData, Height:', round(np.mean([make_decisions(pdata, ['SubjectID', 'Conditie', 'mad_SegmentData', 'Height']) for i in range(100)]), 2),'%.')\n",
    "print('mad_SegmentData, Age:', round(np.mean([make_decisions(pdata, ['SubjectID', 'Conditie', 'mad_SegmentData', 'Age']) for i in range(100)]), 2),'%.')\n",
    "print('std_SegmentData, GaitTime, mean_StepLength:', round(np.mean([make_decisions(pdata, ['SubjectID', 'Conditie', 'GaitTime', 'mean_StepLength', 'std_SegmentData']) for i in range(100)]), 2),'%.')\n",
    "\n"
   ]
  },
  {
   "cell_type": "code",
   "execution_count": null,
   "metadata": {},
   "outputs": [],
   "source": []
  }
 ],
 "metadata": {
  "kernelspec": {
   "display_name": "Python 3",
   "language": "python",
   "name": "python3"
  },
  "language_info": {
   "codemirror_mode": {
    "name": "ipython",
    "version": 3
   },
   "file_extension": ".py",
   "mimetype": "text/x-python",
   "name": "python",
   "nbconvert_exporter": "python",
   "pygments_lexer": "ipython3",
   "version": "3.6.4"
  }
 },
 "nbformat": 4,
 "nbformat_minor": 2
}
