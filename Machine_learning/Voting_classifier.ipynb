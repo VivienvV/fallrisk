{
 "cells": [
  {
   "cell_type": "code",
   "execution_count": 1,
   "metadata": {},
   "outputs": [],
   "source": [
    "import pandas as pd  \n",
    "import numpy as np  \n",
    "import matplotlib.pyplot as plt\n",
    "from sklearn import tree\n",
    "from sklearn.tree import DecisionTreeClassifier  \n",
    "from sklearn.metrics import classification_report, confusion_matrix, precision_recall_fscore_support, accuracy_score  \n",
    "from sklearn.linear_model import LogisticRegression\n",
    "from sklearn import datasets\n",
    "from sklearn.metrics import accuracy_score\n",
    "from sklearn.metrics import classification_report\n",
    "from sklearn.model_selection import train_test_split\n",
    "from scipy.io import loadmat\n",
    "import itertools\n",
    "from sklearn import metrics\n",
    "from sklearn.naive_bayes import GaussianNB\n",
    "from sklearn.neighbors import KNeighborsRegressor\n",
    "from sklearn.neighbors import KNeighborsClassifier\n",
    "from sklearn.metrics import confusion_matrix, accuracy_score\n",
    "from sklearn.model_selection import cross_val_score\n",
    "from sklearn import tree\n",
    "from sklearn.neural_network import MLPClassifier\n",
    "from sklearn.preprocessing import StandardScaler\n",
    "from sklearn.decomposition import PCA\n",
    "np.set_printoptions(threshold=np.nan)\n",
    "\n",
    "pdata = pd.read_csv(\"../Data/preprocessed_final.csv\")\n",
    "# pdata = pdata.drop([\"Unnamed: 0\"], axis=1)\n",
    "pdata['Conditie'] = pdata['Conditie'].map({'norm': 0,  'bril': 1})\n",
    "# pdata"
   ]
  },
  {
   "cell_type": "code",
   "execution_count": 2,
   "metadata": {},
   "outputs": [],
   "source": [
    "X = pdata.drop(['Conditie', 'SubjectID'], axis=1)\n",
    "Y = pdata['Conditie']"
   ]
  },
  {
   "cell_type": "code",
   "execution_count": 3,
   "metadata": {},
   "outputs": [
    {
     "data": {
      "text/plain": [
       "<matplotlib.axes._subplots.AxesSubplot at 0x1a0ed743c8>"
      ]
     },
     "execution_count": 3,
     "metadata": {},
     "output_type": "execute_result"
    },
    {
     "data": {
      "image/png": "[encoded data removed]",
      "text/plain": [
       "<matplotlib.figure.Figure at 0x108dbc6d8>"
      ]
     },
     "metadata": {},
     "output_type": "display_data"
    }
   ],
   "source": [
    "import seaborn as sns\n",
    "corr = X.corr()\n",
    "sns.heatmap(corr, mask=np.zeros_like(corr, dtype=np.bool), cmap=sns.diverging_palette(220, 10, as_cmap=True), square=True)"
   ]
  },
  {
   "cell_type": "code",
   "execution_count": 4,
   "metadata": {},
   "outputs": [],
   "source": [
    "#Splits data into training and validation according to specified ratio\n",
    "def validation_split(data, ratio):\n",
    "    sidlist = data['SubjectID'].unique()\n",
    "    gdata = [data[data['SubjectID']==sid] for sid in sidlist]\n",
    "    np.random.shuffle(gdata)\n",
    "    N = len(gdata)\n",
    "    training = gdata[:int(ratio*N)]\n",
    "    validation = gdata[(int(ratio*N)):]\n",
    "    return training,validation\n",
    "\n",
    "# Converts the arrays in a list to one flattend dataframe\n",
    "def flatten(data, variable_list):\n",
    "    return pd.DataFrame(np.vstack(data), columns=variable_list)\n",
    "\n",
    "def get_split_data(originaldata, variable_list, ratio):\n",
    "    data = originaldata[variable_list]\n",
    "    training,validation = validation_split(data, 0.7)\n",
    "    training = flatten(training, variable_list)\n",
    "    validation = flatten(validation, variable_list)\n",
    "\n",
    "    X_train = training.drop(['Conditie', 'SubjectID'], axis=1)\n",
    "    y_train = training['Conditie']\n",
    "    X_train = X_train.astype(float)\n",
    "    y_train = y_train.astype(int)\n",
    "    \n",
    "    X_test = validation.drop(['Conditie', 'SubjectID'], axis=1)\n",
    "    y_test = validation['Conditie']\n",
    "    X_test = X_test.astype(float)\n",
    "    y_test = y_test.astype(int)\n",
    "    return X_train, X_test, y_train, y_test\n",
    "\n",
    "collist =  ['SubjectID', 'Conditie','mean_StepLength', 'GaitTime']\n",
    "X_train, X_test, y_train, y_test = get_split_data(pdata, collist , 0.7)\n",
    "\n",
    "\n",
    "X_train = np.array(X_train, dtype=float)\n",
    "y_train = np.array(y_train, dtype=int)\n",
    "\n",
    "X_test = np.array(X_test, dtype=float)\n",
    "y_test = np.array(y_test, dtype=int)\n"
   ]
  },
  {
   "cell_type": "code",
   "execution_count": 5,
   "metadata": {},
   "outputs": [
    {
     "name": "stdout",
     "output_type": "stream",
     "text": [
      "Accuracy of our model is equal 85.11 %.\n"
     ]
    }
   ],
   "source": [
    "from sklearn.ensemble import RandomForestClassifier, VotingClassifier\n",
    "clf1 = LogisticRegression(solver='lbfgs', multi_class='multinomial', random_state=1)\n",
    "clf2 = RandomForestClassifier(n_estimators=50, random_state=1)\n",
    "clf3 = GaussianNB()\n",
    "\n",
    "eclf1 = VotingClassifier(estimators=[('lr', clf1), ('rf', clf2), ('gnb', clf3)], voting='hard')\n",
    "eclf1 = eclf1.fit(X_train, y_train)\n",
    "\n",
    "y_pred = eclf1.predict(X_test)\n",
    "\n",
    "accuracy = accuracy_score(y_test, y_pred)*100\n",
    "print('Accuracy of our model is equal ' + str(round(accuracy, 2)) + ' %.')\n"
   ]
  },
  {
   "cell_type": "code",
   "execution_count": 6,
   "metadata": {},
   "outputs": [
    {
     "data": {
      "text/plain": [
       "87.2340425531915"
      ]
     },
     "execution_count": 6,
     "metadata": {},
     "output_type": "execute_result"
    }
   ],
   "source": [
    "from sklearn import svm \n",
    "from sklearn.svm import SVC\n",
    "def make_decisions(originaldata, variable_list):\n",
    "    data = originaldata[variable_list]\n",
    "    training,validation = validation_split(data, 0.7)\n",
    "    training = flatten(training, variable_list)\n",
    "    validation = flatten(validation, variable_list)\n",
    "\n",
    "    X_train = training.drop(['Conditie', 'SubjectID'], axis=1)\n",
    "    y_train = training['Conditie']\n",
    "    X_train = X_train.astype(float)\n",
    "    y_train = y_train.astype(int)\n",
    "    \n",
    "    X_test = validation.drop(['Conditie', 'SubjectID'], axis=1)\n",
    "    y_test = validation['Conditie']\n",
    "    X_test = X_test.astype(float)\n",
    "    y_test = y_test.astype(int)\n",
    "    \n",
    "    scaler = StandardScaler()\n",
    "\n",
    "    # Fit on training set only.\n",
    "    scaler.fit(X_train)\n",
    "\n",
    "    # Apply transform to both the training set and the test set.\n",
    "    X_train = scaler.transform(X_train)\n",
    "    X_test = scaler.transform(X_test)\n",
    "\n",
    "    # Make an instance of the Model\n",
    "    pca = PCA(n_components=2)\n",
    "    pca.fit(X_train)\n",
    "\n",
    "    X_train = pca.transform(X_train)\n",
    "    X_test = pca.transform(X_test)\n",
    "    \n",
    "#     clf1 = LogisticRegression(solver='lbfgs', multi_class='multinomial', random_state=1)\n",
    "#     clf2 = RandomForestClassifier(n_estimators=50, random_state=1)\n",
    "#     clf3 = GaussianNB()\n",
    "#     clf4 = DecisionTreeClassifier(max_depth=5, min_samples_leaf=0.01)  \n",
    "\n",
    "#     eclf1 = VotingClassifier(estimators=[('lr', clf1), ('rf', clf2), ('gnb', clf3), ('dt', clf4)], voting='hard')\n",
    "#     eclf1 = eclf1.fit(X_train, y_train)\n",
    "\n",
    "#     y_pred = eclf1.predict(X_test)\n",
    "\n",
    "    error = []\n",
    "    for i in range(1, 40):  \n",
    "        knn = KNeighborsClassifier(n_neighbors=i)\n",
    "        knn.fit(X_train, y_train)\n",
    "        pred_i = knn.predict(X_test)\n",
    "        error.append(np.mean(pred_i != y_test)) \n",
    "    j = error.index(min(error)) +1\n",
    "    \n",
    "    clf1 = DecisionTreeClassifier(max_depth=4)\n",
    "    clf2 = KNeighborsClassifier(n_neighbors=j)\n",
    "    clf4 = LogisticRegression(solver='lbfgs', multi_class='multinomial', random_state=1)\n",
    "    clf5 = GaussianNB()\n",
    "    eclf = VotingClassifier(estimators=[('dt', clf1), ('knn', clf2), ('lg', clf4), ('nb', clf5)], voting='soft', weights=[2, 1, 2, 1])\n",
    "    eclf = eclf.fit(X_train, y_train)\n",
    "\n",
    "    y_pred = eclf.predict(X_test)\n",
    "\n",
    "    return accuracy_score(y_test, y_pred) * 100\n",
    "\n",
    "\n",
    "make_decisions(pdata, collist)"
   ]
  },
  {
   "cell_type": "code",
   "execution_count": 7,
   "metadata": {},
   "outputs": [
    {
     "name": "stdout",
     "output_type": "stream",
     "text": [
      "std_SegmentData, GaitTime, mean_StepLength: 86.11 %.\n"
     ]
    }
   ],
   "source": [
    "print('std_SegmentData, GaitTime, mean_StepLength:', round(np.mean([make_decisions(pdata, ['SubjectID', 'Conditie', 'GaitTime', 'mean_StepLength', 'std_SegmentData']) for i in range(100)]), 2),'%.')"
   ]
  },
  {
   "cell_type": "code",
   "execution_count": 9,
   "metadata": {},
   "outputs": [
    {
     "name": "stdout",
     "output_type": "stream",
     "text": [
      "mad_SegmentData, mean_StepLength: 85.81 %.\n",
      "mean_StepLength, std_SegmentData: 84.83 %.\n",
      "GaitTime, mean_StepLength, mad_SegmentData: 85.76 %.\n",
      "std_SegmentData, GaitVelocity, MovementVelocity, mean_StepLength: 84.33 %.\n",
      "GaitTime, GaitVelocity, MovementVelocity, mean_StepLength, std_SegmentData: 84.39 %.\n",
      "GaitTime, mean_StepLength, Height: 86.66 %.\n",
      "GaitTime, mean_StepLength, Age: 85.72 %.\n",
      "mean_StepLength, Height: 85.84 %.\n",
      "mean_StepLength, Age: 85.1 %.\n",
      "GaitTime, Height: 83.0 %.\n",
      "std_SegmentData, Height: 71.09 %.\n",
      "mad_SegmentData, Age: 72.02 %.\n"
     ]
    }
   ],
   "source": [
    "print('mad_SegmentData, mean_StepLength:', round(np.mean([make_decisions(pdata, ['SubjectID', 'Conditie','mean_StepLength', 'mad_SegmentData']) for i in range(100)]), 2),'%.')\n",
    "print('mean_StepLength, std_SegmentData:', round(np.mean([make_decisions(pdata, ['SubjectID', 'Conditie', 'mean_StepLength', 'std_SegmentData']) for i in range(100)]), 2),'%.')\n",
    "print('GaitTime, mean_StepLength, mad_SegmentData:', round(np.mean([make_decisions(pdata, ['SubjectID', 'Conditie', 'mean_StepLength', 'GaitTime', 'mad_SegmentData']) for i in range(100)]), 2),'%.')\n",
    "print('std_SegmentData, GaitVelocity, MovementVelocity, mean_StepLength:', round(np.mean([make_decisions(pdata, ['SubjectID', 'Conditie', 'GaitVelocity', 'MovementVelocity', 'mean_StepLength', 'std_SegmentData']) for i in range(100)]), 2),'%.')\n",
    "print('GaitTime, GaitVelocity, MovementVelocity, mean_StepLength, std_SegmentData:', round(np.mean([make_decisions(pdata, ['SubjectID', 'Conditie', 'GaitVelocity', 'MovementVelocity', 'mean_StepLength', 'GaitTime', 'std_SegmentData']) for i in range(100)]), 2),'%.')\n",
    "print('GaitTime, mean_StepLength, Height:', round(np.mean([make_decisions(pdata, ['SubjectID', 'Conditie', 'mean_StepLength', 'GaitTime', 'Height']) for i in range(100)]), 2),'%.')\n",
    "print('GaitTime, mean_StepLength, Age:', round(np.mean([make_decisions(pdata, ['SubjectID', 'Conditie', 'mean_StepLength', 'GaitTime', 'Age']) for i in range(100)]), 2),'%.')\n",
    "print('mean_StepLength, Height:', round(np.mean([make_decisions(pdata, ['SubjectID', 'Conditie', 'mean_StepLength', 'Height']) for i in range(100)]), 2),'%.')\n",
    "print('mean_StepLength, Age:', round(np.mean([make_decisions(pdata, ['SubjectID', 'Conditie', 'mean_StepLength', 'Age']) for i in range(100)]), 2),'%.')\n",
    "print('GaitTime, Height:', round(np.mean([make_decisions(pdata, ['SubjectID', 'Conditie', 'GaitTime', 'Height']) for i in range(100)]), 2),'%.')\n",
    "print('std_SegmentData, Height:', round(np.mean([make_decisions(pdata, ['SubjectID', 'Conditie', 'mad_SegmentData', 'Height']) for i in range(100)]), 2),'%.')\n",
    "print('mad_SegmentData, Age:', round(np.mean([make_decisions(pdata, ['SubjectID', 'Conditie', 'mad_SegmentData', 'Age']) for i in range(100)]), 2),'%.')\n",
    "\n",
    "\n"
   ]
  },
  {
   "cell_type": "code",
   "execution_count": null,
   "metadata": {},
   "outputs": [],
   "source": []
  },
  {
   "cell_type": "code",
   "execution_count": null,
   "metadata": {},
   "outputs": [],
   "source": []
  }
 ],
 "metadata": {
  "kernelspec": {
   "display_name": "Python 3",
   "language": "python",
   "name": "python3"
  },
  "language_info": {
   "codemirror_mode": {
    "name": "ipython",
    "version": 3
   },
   "file_extension": ".py",
   "mimetype": "text/x-python",
   "name": "python",
   "nbconvert_exporter": "python",
   "pygments_lexer": "ipython3",
   "version": "3.6.4"
  }
 },
 "nbformat": 4,
 "nbformat_minor": 2
}
