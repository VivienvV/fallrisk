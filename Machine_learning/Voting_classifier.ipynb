{
 "cells": [
  {
   "cell_type": "code",
   "execution_count": 12,
   "metadata": {},
   "outputs": [],
   "source": [
    "import pandas as pd  \n",
    "import numpy as np  \n",
    "import matplotlib.pyplot as plt\n",
    "from sklearn.tree import DecisionTreeClassifier  \n",
    "from sklearn.metrics import classification_report, confusion_matrix, precision_recall_fscore_support, accuracy_score  \n",
    "from sklearn.linear_model import LogisticRegression\n",
    "from sklearn import datasets\n",
    "from sklearn.metrics import accuracy_score\n",
    "from sklearn.metrics import classification_report\n",
    "from sklearn.model_selection import train_test_split\n",
    "from scipy.io import loadmat\n",
    "import itertools\n",
    "from sklearn import metrics\n",
    "from sklearn.naive_bayes import GaussianNB\n",
    "from sklearn.neighbors import KNeighborsRegressor\n",
    "from sklearn.neighbors import KNeighborsClassifier\n",
    "from sklearn.metrics import confusion_matrix, accuracy_score\n",
    "from sklearn.model_selection import cross_val_score\n",
    "from sklearn import tree\n",
    "from sklearn.neural_network import MLPClassifier\n",
    "from sklearn.preprocessing import StandardScaler\n",
    "from sklearn.decomposition import PCA\n",
    "from sklearn.ensemble import VotingClassifier\n",
    "np.set_printoptions(threshold=np.nan)\n",
    "\n",
    "pdata = pd.read_csv(\"../Data/preprocessed_final.csv\")\n",
    "pdata['Conditie'] = pdata['Conditie'].map({'norm': 0,  'bril': 1})"
   ]
  },
  {
   "cell_type": "code",
   "execution_count": 13,
   "metadata": {},
   "outputs": [],
   "source": [
    "#Splits data into training and validation according to specified ratio\n",
    "def validation_split(data, ratio):\n",
    "    sidlist = data['SubjectID'].unique()\n",
    "    gdata = [data[data['SubjectID']==sid] for sid in sidlist]\n",
    "    np.random.shuffle(gdata)\n",
    "    N = len(gdata)\n",
    "    training = gdata[:int(ratio*N)]\n",
    "    validation = gdata[(int(ratio*N)):]\n",
    "    return training,validation\n",
    "\n",
    "#Converts the arrays in a list to one flattend dataframe\n",
    "def flatten(data, variable_list):\n",
    "    return pd.DataFrame(np.vstack(data), columns=variable_list)\n"
   ]
  },
  {
   "cell_type": "code",
   "execution_count": 14,
   "metadata": {},
   "outputs": [
    {
     "data": {
      "text/plain": [
       "86.17021276595744"
      ]
     },
     "execution_count": 14,
     "metadata": {},
     "output_type": "execute_result"
    }
   ],
   "source": [
    "#Code that loops thourgh the data 100 times and calculates the accuracy for every loop and returns the mean\n",
    "def make_decisions(originaldata, variable_list):\n",
    "    data = originaldata[variable_list]\n",
    "    training,validation = validation_split(data, 0.7)\n",
    "    training = flatten(training, variable_list)\n",
    "    validation = flatten(validation, variable_list)\n",
    "\n",
    "    X_train = training.drop(['Conditie', 'SubjectID'], axis=1)\n",
    "    y_train = training['Conditie']\n",
    "    X_train = X_train.astype(float)\n",
    "    y_train = y_train.astype(int)\n",
    "    \n",
    "    X_test = validation.drop(['Conditie', 'SubjectID'], axis=1)\n",
    "    y_test = validation['Conditie']\n",
    "    X_test = X_test.astype(float)\n",
    "    y_test = y_test.astype(int)\n",
    "    \n",
    "    \n",
    "    #Standardize the x components\n",
    "    scaler = StandardScaler()\n",
    "\n",
    "    scaler.fit(X_train)\n",
    "\n",
    "    X_train = scaler.transform(X_train)\n",
    "    X_test = scaler.transform(X_test)\n",
    "\n",
    "    #Apply dimensionality reduction\n",
    "    pca = PCA(n_components=2)\n",
    "    pca.fit(X_train)\n",
    "\n",
    "    X_train = pca.transform(X_train)\n",
    "    X_test = pca.transform(X_test)\n",
    "\n",
    "    #Code to determine optimal k\n",
    "    error = []\n",
    "    for i in range(1, 40):  \n",
    "        knn = KNeighborsClassifier(n_neighbors=i)\n",
    "        knn.fit(X_train, y_train)\n",
    "        pred_i = knn.predict(X_test)\n",
    "        error.append(np.mean(pred_i != y_test)) \n",
    "    j = error.index(min(error)) +1\n",
    "    \n",
    "    #the different classifiers for the VotingClassifier\n",
    "    clf1 = DecisionTreeClassifier(max_depth=4)\n",
    "    clf2 = KNeighborsClassifier(n_neighbors=j)\n",
    "    clf4 = LogisticRegression(solver='lbfgs', multi_class='multinomial', random_state=1)\n",
    "    clf5 = GaussianNB()\n",
    "    eclf = VotingClassifier(estimators=[('dt', clf1), ('knn', clf2), ('lg', clf4), ('nb', clf5)], voting='soft', weights=[2, 1, 2, 1])\n",
    "    eclf = eclf.fit(X_train, y_train)\n",
    "\n",
    "    y_pred = eclf.predict(X_test)\n",
    "\n",
    "    return accuracy_score(y_test, y_pred) * 100\n",
    "\n",
    "\n",
    "make_decisions(pdata, collist)"
   ]
  },
  {
   "cell_type": "code",
   "execution_count": 16,
   "metadata": {},
   "outputs": [
    {
     "name": "stdout",
     "output_type": "stream",
     "text": [
      "mad_SegmentData, mean_StepLength: 85.65 %.\n",
      "mean_StepLength, std_SegmentData: 85.21 %.\n",
      "GaitTime, mean_StepLength, mad_SegmentData: 86.01 %.\n",
      "std_SegmentData, GaitVelocity, MovementVelocity, mean_StepLength: 84.5 %.\n",
      "GaitTime, GaitVelocity, MovementVelocity, mean_StepLength, std_SegmentData: 84.44 %.\n",
      "GaitTime, mean_StepLength, Height: 87.26 %.\n",
      "GaitTime, mean_StepLength, Age: 84.93 %.\n",
      "mean_StepLength, Height: 85.3 %.\n",
      "mean_StepLength, Age: 85.07 %.\n",
      "GaitTime, Height: 82.89 %.\n",
      "std_SegmentData, Height: 71.73 %.\n",
      "mad_SegmentData, Age: 70.91 %.\n",
      "std_SegmentData, GaitTime, mean_StepLength: 85.54 %.\n"
     ]
    }
   ],
   "source": [
    "#Code that prints the accuracy of varies variable combinations\n",
    "print('mad_SegmentData, mean_StepLength:', round(np.mean([make_decisions(pdata, ['SubjectID', 'Conditie','mean_StepLength', 'mad_SegmentData']) for i in range(100)]), 2),'%.')\n",
    "print('mean_StepLength, std_SegmentData:', round(np.mean([make_decisions(pdata, ['SubjectID', 'Conditie', 'mean_StepLength', 'std_SegmentData']) for i in range(100)]), 2),'%.')\n",
    "print('GaitTime, mean_StepLength, mad_SegmentData:', round(np.mean([make_decisions(pdata, ['SubjectID', 'Conditie', 'mean_StepLength', 'GaitTime', 'mad_SegmentData']) for i in range(100)]), 2),'%.')\n",
    "print('std_SegmentData, GaitVelocity, MovementVelocity, mean_StepLength:', round(np.mean([make_decisions(pdata, ['SubjectID', 'Conditie', 'GaitVelocity', 'MovementVelocity', 'mean_StepLength', 'std_SegmentData']) for i in range(100)]), 2),'%.')\n",
    "print('GaitTime, GaitVelocity, MovementVelocity, mean_StepLength, std_SegmentData:', round(np.mean([make_decisions(pdata, ['SubjectID', 'Conditie', 'GaitVelocity', 'MovementVelocity', 'mean_StepLength', 'GaitTime', 'std_SegmentData']) for i in range(100)]), 2),'%.')\n",
    "print('GaitTime, mean_StepLength, Height:', round(np.mean([make_decisions(pdata, ['SubjectID', 'Conditie', 'mean_StepLength', 'GaitTime', 'Height']) for i in range(100)]), 2),'%.')\n",
    "print('GaitTime, mean_StepLength, Age:', round(np.mean([make_decisions(pdata, ['SubjectID', 'Conditie', 'mean_StepLength', 'GaitTime', 'Age']) for i in range(100)]), 2),'%.')\n",
    "print('mean_StepLength, Height:', round(np.mean([make_decisions(pdata, ['SubjectID', 'Conditie', 'mean_StepLength', 'Height']) for i in range(100)]), 2),'%.')\n",
    "print('mean_StepLength, Age:', round(np.mean([make_decisions(pdata, ['SubjectID', 'Conditie', 'mean_StepLength', 'Age']) for i in range(100)]), 2),'%.')\n",
    "print('GaitTime, Height:', round(np.mean([make_decisions(pdata, ['SubjectID', 'Conditie', 'GaitTime', 'Height']) for i in range(100)]), 2),'%.')\n",
    "print('std_SegmentData, Height:', round(np.mean([make_decisions(pdata, ['SubjectID', 'Conditie', 'mad_SegmentData', 'Height']) for i in range(100)]), 2),'%.')\n",
    "print('mad_SegmentData, Age:', round(np.mean([make_decisions(pdata, ['SubjectID', 'Conditie', 'mad_SegmentData', 'Age']) for i in range(100)]), 2),'%.')\n",
    "print('std_SegmentData, GaitTime, mean_StepLength:', round(np.mean([make_decisions(pdata, ['SubjectID', 'Conditie', 'GaitTime', 'mean_StepLength', 'std_SegmentData']) for i in range(100)]), 2),'%.')\n",
    "\n"
   ]
  },
  {
   "cell_type": "code",
   "execution_count": null,
   "metadata": {},
   "outputs": [],
   "source": []
  }
 ],
 "metadata": {
  "kernelspec": {
   "display_name": "Python 3",
   "language": "python",
   "name": "python3"
  },
  "language_info": {
   "codemirror_mode": {
    "name": "ipython",
    "version": 3
   },
   "file_extension": ".py",
   "mimetype": "text/x-python",
   "name": "python",
   "nbconvert_exporter": "python",
   "pygments_lexer": "ipython3",
   "version": "3.6.4"
  }
 },
 "nbformat": 4,
 "nbformat_minor": 2
}
