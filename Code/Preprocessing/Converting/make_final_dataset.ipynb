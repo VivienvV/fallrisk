{
 "cells": [
  {
   "cell_type": "code",
   "execution_count": 1,
   "metadata": {},
   "outputs": [],
   "source": [
    "import pandas as pd\n",
    "import numpy as np"
   ]
  },
  {
   "cell_type": "code",
   "execution_count": 4,
   "metadata": {},
   "outputs": [
    {
     "data": {
      "text/plain": [
       "['Conditie',\n",
       " 'SubjectID',\n",
       " 'Height',\n",
       " 'Weight',\n",
       " 'Age',\n",
       " 'BMI',\n",
       " 'Alcohol',\n",
       " 'Alcohol_Class',\n",
       " 'Balance_MLrange',\n",
       " 'Balance_MLstdev',\n",
       " 'Balance_MLmeanVelocity',\n",
       " 'Balance_APrange',\n",
       " 'Balance_APstdev',\n",
       " 'Balance_APmeanVelocity',\n",
       " 'Balance_MeanVelocity',\n",
       " 'GaitVelocity',\n",
       " 'MovementVelocity',\n",
       " 'std_SegmentData',\n",
       " 'mad_SegmentData',\n",
       " 'mean_StepLength',\n",
       " 'Velocity']"
      ]
     },
     "execution_count": 4,
     "metadata": {},
     "output_type": "execute_result"
    }
   ],
   "source": [
    "df_data = pd.read_csv(\"../Data/preprocessed_alcohol_balance_perperson.csv\")\n",
    "list(df_data)"
   ]
  },
  {
   "cell_type": "code",
   "execution_count": 10,
   "metadata": {},
   "outputs": [],
   "source": [
    "df_data = df_data.drop(['Balance_MLrange',\n",
    " 'Balance_MLstdev',\n",
    " 'Balance_MLmeanVelocity',\n",
    " 'Balance_APrange',\n",
    " 'Balance_APstdev',\n",
    " 'Balance_APmeanVelocity'], axis=1)"
   ]
  },
  {
   "cell_type": "code",
   "execution_count": 11,
   "metadata": {},
   "outputs": [
    {
     "data": {
      "text/plain": [
       "['Conditie',\n",
       " 'SubjectID',\n",
       " 'Height',\n",
       " 'Weight',\n",
       " 'Age',\n",
       " 'BMI',\n",
       " 'Alcohol',\n",
       " 'Alcohol_Class',\n",
       " 'Balance_MeanVelocity',\n",
       " 'GaitVelocity',\n",
       " 'MovementVelocity',\n",
       " 'std_SegmentData',\n",
       " 'mad_SegmentData',\n",
       " 'mean_StepLength',\n",
       " 'Velocity']"
      ]
     },
     "execution_count": 11,
     "metadata": {},
     "output_type": "execute_result"
    }
   ],
   "source": [
    "list(df_data)"
   ]
  },
  {
   "cell_type": "code",
   "execution_count": 12,
   "metadata": {},
   "outputs": [],
   "source": [
    "df_data.to_csv(path_or_buf=\"../Data/preprocessed_final.csv\", index=False)"
   ]
  },
  {
   "cell_type": "code",
   "execution_count": null,
   "metadata": {},
   "outputs": [],
   "source": []
  }
 ],
 "metadata": {
  "kernelspec": {
   "display_name": "Python 3",
   "language": "python",
   "name": "python3"
  },
  "language_info": {
   "codemirror_mode": {
    "name": "ipython",
    "version": 3
   },
   "file_extension": ".py",
   "mimetype": "text/x-python",
   "name": "python",
   "nbconvert_exporter": "python",
   "pygments_lexer": "ipython3",
   "version": "3.7.0"
  }
 },
 "nbformat": 4,
 "nbformat_minor": 2
}
